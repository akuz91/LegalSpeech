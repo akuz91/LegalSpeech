{
  "nbformat": 4,
  "nbformat_minor": 0,
  "metadata": {
    "colab": {
      "name": "d-vector_generation.ipynb",
      "provenance": [],
      "collapsed_sections": [
        "itckvlZVCa3s",
        "2Arqvyesf1yi",
        "CrmIs27VQYge",
        "eBaf4L52V2zC",
        "wOaphJyPrtyb",
        "-vudRKZVwQWo",
        "vNeKlGpkJivh",
        "fSAvdWONvQZM",
        "CXuTg8t0vTDo",
        "qgR2Ft4Ucy3i",
        "TvIxwEMm4abg",
        "rYLWilgbUUBz"
      ]
    },
    "kernelspec": {
      "name": "python3",
      "display_name": "Python 3"
    },
    "accelerator": "GPU"
  },
  "cells": [
    {
      "cell_type": "markdown",
      "metadata": {
        "id": "itckvlZVCa3s"
      },
      "source": [
        "## Manage Colab Env/WD"
      ]
    },
    {
      "cell_type": "code",
      "metadata": {
        "id": "p4r2W4r5FMEJ",
        "outputId": "5db872a9-dd99-435a-cd3b-e239bde7ea2b",
        "colab": {
          "base_uri": "https://localhost:8080/"
        }
      },
      "source": [
        "from google.colab import drive\n",
        "drive.mount('/content/drive', force_remount=True)"
      ],
      "execution_count": 1,
      "outputs": [
        {
          "output_type": "stream",
          "text": [
            "Mounted at /content/drive\n"
          ],
          "name": "stdout"
        }
      ]
    },
    {
      "cell_type": "code",
      "metadata": {
        "id": "VLz5L63sdHCz"
      },
      "source": [
        "import json\n",
        "from datetime import date\n",
        "import traceback\n",
        "import requests\n",
        "import os\n",
        "import pandas as pd\n",
        "\n",
        "import torch\n",
        "import torch.nn as nn\n",
        "\n",
        "import glob\n",
        "import librosa\n",
        "import numpy as np\n",
        "import collections\n",
        "import contextlib\n",
        "import sys\n",
        "import wave\n",
        "\n",
        "term = '2020'\n",
        "docket = '18-540'\n",
        "mod_path = \"/content/model.model\"\n",
        "ap = '18-540_20201006-argument.delivery.mp3'\n",
        "ap_wav = '18-540_argument.wav'"
      ],
      "execution_count": 2,
      "outputs": []
    },
    {
      "cell_type": "code",
      "metadata": {
        "id": "hqJmgSMfCL_4",
        "outputId": "9e51b7ad-e8f4-4e71-e8bf-83682ebfca6f",
        "colab": {
          "base_uri": "https://localhost:8080/"
        }
      },
      "source": [
        "!ls -ag"
      ],
      "execution_count": 3,
      "outputs": [
        {
          "output_type": "stream",
          "text": [
            "total 20\n",
            "drwxr-xr-x 1 root 4096 Oct 31 20:14 .\n",
            "drwxr-xr-x 1 root 4096 Oct 31 20:10 ..\n",
            "drwxr-xr-x 1 root 4096 Oct 28 16:30 .config\n",
            "drwx------ 5 root 4096 Oct 31 20:14 drive\n",
            "drwxr-xr-x 1 root 4096 Oct 28 16:30 sample_data\n"
          ],
          "name": "stdout"
        }
      ]
    },
    {
      "cell_type": "code",
      "metadata": {
        "id": "8SAB-VO1dTgd",
        "outputId": "4449635b-1b7a-4681-c818-797c3c1551b7",
        "colab": {
          "base_uri": "https://localhost:8080/"
        }
      },
      "source": [
        "!ls drive/My\\ Drive/1006:\\ Term\\ Project/Colab\\ Notebooks/ -ag"
      ],
      "execution_count": 9,
      "outputs": [
        {
          "output_type": "stream",
          "text": [
            "total 55518\n",
            "-rw------- 1 root  7915975 Oct 19 00:53 case_summaries.json\n",
            "drwx------ 2 root     4096 Oct 19 02:28 config\n",
            "-rw------- 1 root     2684 Oct 18 16:50 data_load.py\n",
            "-rw------- 1 root     3405 Oct 18 21:54 data_preprocess.py\n",
            "-rw------- 1 root     4018 Oct 12 00:54 dvector_create.py\n",
            "-rw------- 1 root    65693 Oct 24 20:00 d-vector_generation.ipynb\n",
            "-rw------- 1 root     1591 Oct 18 16:51 hparam.py\n",
            "-rw------- 1 root 48543272 Oct 19 17:53 model.model\n",
            "drwx------ 2 root     4096 Oct 23 17:32 notes\n",
            "drwx------ 2 root     4096 Oct 23 14:01 oyez_parser\n",
            "drwx------ 2 root     4096 Oct 19 02:54 __pycache__\n",
            "-rw------- 1 root    11539 Oct 19 17:58 run_TIMIT_test.ipynb\n",
            "-rw------- 1 root   251947 Oct 19 17:43 run_train.ipynb\n",
            "-rw------- 1 root     1595 Oct 18 16:56 speech_embedder_net.py\n",
            "drwx------ 2 root     4096 Oct 30 18:32 speech_id_checkpoint_1019\n",
            "lrw------- 1 root        0 Oct 24 17:49 test_tisv -> '/content/drive/ '\n",
            "-rw------- 1 root     7109 Oct 18 21:56 train_speech_embedder.py\n",
            "drwx------ 2 root     4096 Oct 19 02:28 train_tisv\n",
            "-rw------- 1 root     6890 Oct 18 16:52 utils.py\n",
            "-rw------- 1 root     5817 Oct 12 00:54 VAD_segments.py\n"
          ],
          "name": "stdout"
        }
      ]
    },
    {
      "cell_type": "code",
      "metadata": {
        "id": "31vsWwpvCKQL",
        "outputId": "eb3d6998-c22a-4133-89d6-0f300b9f4867",
        "colab": {
          "base_uri": "https://localhost:8080/"
        }
      },
      "source": [
        "!ls drive/My\\ Drive/Colab\\ Notebooks/diarization -ag"
      ],
      "execution_count": 10,
      "outputs": [
        {
          "output_type": "stream",
          "text": [
            "total 68\n",
            "-rw------- 1 root 65005 Oct 31 20:42 d-vector_generation.ipynb\n",
            "-rw------- 1 root  4377 Oct 19 01:56 PyTorchSV.ipynb\n"
          ],
          "name": "stdout"
        }
      ]
    },
    {
      "cell_type": "markdown",
      "metadata": {
        "id": "2Arqvyesf1yi"
      },
      "source": [
        "# Get desired audio file + transript/times from web \n",
        "  - mostly to understand audio data scraping tools\n",
        "  - test utilization in colab"
      ]
    },
    {
      "cell_type": "code",
      "metadata": {
        "id": "hfUyBIhLeIR2"
      },
      "source": [
        "# Add court summaries file to WD\n",
        "!cp drive/My\\ Drive/1006:\\ Term\\ Project/Colab\\ Notebooks/case_summaries.json /content/"
      ],
      "execution_count": 13,
      "outputs": []
    },
    {
      "cell_type": "code",
      "metadata": {
        "id": "ZTNdtDUPcGe3"
      },
      "source": [
        "def get_http_json(url):\n",
        "    print(f\"Getting {url}\")\n",
        "    response = requests.get(url)\n",
        "    parsed = response.json()\n",
        "    return parsed\n",
        "\n",
        "def get_case(term, docket):\n",
        "    \"\"\"Get the info of the case and fetch all\n",
        "    transcripts that the info links to\"\"\"\n",
        "    url = f\"https://api.oyez.org/cases/{term}/{docket}\"\n",
        "    docket_data = get_http_json(url)\n",
        "\n",
        "    if not (\n",
        "        \"oral_argument_audio\" in docket_data and docket_data[\"oral_argument_audio\"]\n",
        "    ):\n",
        "        # no oral arguments for this case yet\n",
        "        # fail so we will try again later\n",
        "        print(f\"No oral arguments for docket {docket}\")\n",
        "        return (docket_data, [])\n",
        "\n",
        "    oral_argument_audio = docket_data[\"oral_argument_audio\"]\n",
        "    transcripts = []\n",
        "    for link in oral_argument_audio:\n",
        "        t = get_http_json(link[\"href\"])\n",
        "        transcripts.append(t)\n",
        "\n",
        "    return docket_data, transcripts\n",
        "\n",
        "def getTranscript(transcripts):\n",
        "    transcript_list = []\n",
        "    speaker_list = []\n",
        "    speaker_type_list = []\n",
        "    time_list = []\n",
        "    \n",
        "    for t in transcripts:\n",
        "        sections = t['transcript']['sections']\n",
        "        for section in sections:\n",
        "            turns = section['turns']\n",
        "            for turn in turns:\n",
        "                \n",
        "                try:\n",
        "                    speaker = turn['speaker']['name']\n",
        "                except:\n",
        "                    speaker = '<UNK>'\n",
        "                speaker_list.append(speaker)   \n",
        "                \n",
        "                roles = turn['speaker']['roles']\n",
        "                if isinstance(roles, list):\n",
        "                    multiple_roles = []\n",
        "                    for role in roles:\n",
        "                        multiple_roles.append(role['type'])\n",
        "                    speaker_type_list.append(multiple_roles)\n",
        "                \n",
        "                else:\n",
        "                    speaker_type_list.append(['Other']) #Other is most likely Lawyer\n",
        "                \n",
        "                \n",
        "                texts = turn['text_blocks']\n",
        "                texts_out = []\n",
        "                times_out = []\n",
        "                for text in texts:\n",
        "                    texts_out.append(text['text'])\n",
        "                    times_out.append((text['start'],text['stop']))\n",
        "                \n",
        "                transcript_list.append(texts_out)\n",
        "                time_list.append(times_out)\n",
        "\n",
        "    return transcript_list, speaker_list, speaker_type_list, time_list\n",
        "\n",
        "def getAudio(transcripts):\n",
        "    num_files = len(transcripts)\n",
        "    audio_list = []\n",
        "    for t in transcripts:\n",
        "        media_dicts = t['media_file']\n",
        "        #just incase theres more than one, there shouldnt be but they re in a weird list\n",
        "        for media_dict in media_dicts:\n",
        "            audio_list.append(media_dict['href'])\n",
        "    return [num_files,audio_list]"
      ],
      "execution_count": 14,
      "outputs": []
    },
    {
      "cell_type": "code",
      "metadata": {
        "id": "rUUPilq4cUuO"
      },
      "source": [
        "# Get all the terms and dockets from case_summaries.json file\n",
        "with open(os.getcwd() + '/case_summaries.json') as f:\n",
        "    data = json.load(f)\n",
        "    \n",
        "case_summaries = pd.DataFrame(data)\n",
        "case_summaries = case_summaries[['term', 'docket_number']]\n",
        "# Let's start with 2020\n",
        "case_summaries_2020 = case_summaries[case_summaries['term']=='2020']"
      ],
      "execution_count": 15,
      "outputs": []
    },
    {
      "cell_type": "code",
      "metadata": {
        "id": "v82V-iQYcUr6",
        "outputId": "238dc5a5-e0b4-4c49-8aaf-16dc78e12c20",
        "colab": {
          "base_uri": "https://localhost:8080/"
        }
      },
      "source": [
        "data = {}\n",
        "\n",
        "for term, docket_number in case_summaries_2020.itertuples(index=False):\n",
        "    docket_data, transcripts = get_case(term, docket_number)\n",
        "    data[docket_number] = transcripts"
      ],
      "execution_count": 16,
      "outputs": [
        {
          "output_type": "stream",
          "text": [
            "Getting https://api.oyez.org/cases/2020/18-540\n",
            "Getting https://api.oyez.org/case_media/oral_argument_audio/25077\n",
            "Getting https://api.oyez.org/cases/2020/19-71\n",
            "Getting https://api.oyez.org/case_media/oral_argument_audio/25058\n",
            "Getting https://api.oyez.org/cases/2020/19-368\n",
            "Getting https://api.oyez.org/case_media/oral_argument_audio/25061\n",
            "Getting https://api.oyez.org/cases/2020/19-309\n",
            "Getting https://api.oyez.org/case_media/oral_argument_audio/25055\n",
            "Getting https://api.oyez.org/cases/2020/18-956\n",
            "Getting https://api.oyez.org/case_media/oral_argument_audio/25068\n"
          ],
          "name": "stdout"
        }
      ]
    },
    {
      "cell_type": "code",
      "metadata": {
        "id": "jZT68ScOcGg0"
      },
      "source": [
        "audio_path = getAudio(data[docket])[1][0].strip(\"'\")"
      ],
      "execution_count": 17,
      "outputs": []
    },
    {
      "cell_type": "code",
      "metadata": {
        "id": "DfKMKPS3aj6O"
      },
      "source": [
        "transcript_list, speaker_list, speaker_type_list, time_list = getTranscript(transcripts)"
      ],
      "execution_count": 21,
      "outputs": []
    },
    {
      "cell_type": "code",
      "metadata": {
        "id": "QSkxgNfhfLBi",
        "outputId": "d37d6a5a-0a33-4053-cc33-a51d12161df3",
        "colab": {
          "base_uri": "https://localhost:8080/"
        }
      },
      "source": [
        "?#Add mp3 file to WD as determined thru getAudio function\n",
        "!wget $audio_path"
      ],
      "execution_count": 18,
      "outputs": [
        {
          "output_type": "stream",
          "text": [
            "--2020-10-31 20:44:16--  https://s3.amazonaws.com/oyez.case-media.mp3/case_data/2020/18-540/18-540_20201006-argument.delivery.mp3\n",
            "Resolving s3.amazonaws.com (s3.amazonaws.com)... 52.217.86.78\n",
            "Connecting to s3.amazonaws.com (s3.amazonaws.com)|52.217.86.78|:443... connected.\n",
            "HTTP request sent, awaiting response... 200 OK\n",
            "Length: 17200673 (16M) [audio/mpeg]\n",
            "Saving to: ‘18-540_20201006-argument.delivery.mp3’\n",
            "\n",
            "18-540_20201006-arg 100%[===================>]  16.40M  97.0MB/s    in 0.2s    \n",
            "\n",
            "2020-10-31 20:44:17 (97.0 MB/s) - ‘18-540_20201006-argument.delivery.mp3’ saved [17200673/17200673]\n",
            "\n"
          ],
          "name": "stdout"
        }
      ]
    },
    {
      "cell_type": "markdown",
      "metadata": {
        "id": "CrmIs27VQYge"
      },
      "source": [
        "# Define and Load SpeechEmbedder()\n",
        "  - Manually define SpeechEmbedder (could use import, demands files)\n",
        "  - manually load model checkpoint `mod_path`\n",
        "  - can resave, continue training, test"
      ]
    },
    {
      "cell_type": "markdown",
      "metadata": {
        "id": "h-3PphVrgc4v"
      },
      "source": [
        "#### copy necessary files for defining network\n",
        "  - hparam.py\n",
        "  - config/config.yaml\n",
        "  - utils.py\n",
        "  - model checkpoint `model.model`\n",
        "  - could import all files (not necessary)"
      ]
    },
    {
      "cell_type": "code",
      "metadata": {
        "id": "ICP0Lddvggqw"
      },
      "source": [
        "!cp drive/My\\ Drive/1006:\\ Term\\ Project/Colab\\ Notebooks/model.model /content/"
      ],
      "execution_count": 28,
      "outputs": []
    },
    {
      "cell_type": "code",
      "metadata": {
        "id": "WCGUdCBtH0mA"
      },
      "source": [
        "!cp -r drive/My\\ Drive/1006:\\ Term\\ Project/Colab\\ Notebooks/config ."
      ],
      "execution_count": 29,
      "outputs": []
    },
    {
      "cell_type": "code",
      "metadata": {
        "id": "9renJnD6QJz9"
      },
      "source": [
        "!cp drive/My\\ Drive/1006:\\ Term\\ Project/Colab\\ Notebooks/hparam.py ."
      ],
      "execution_count": 30,
      "outputs": []
    },
    {
      "cell_type": "code",
      "metadata": {
        "id": "SQDi_yDXQM8w"
      },
      "source": [
        "!cp drive/My\\ Drive/1006:\\ Term\\ Project/Colab\\ Notebooks/utils.py ."
      ],
      "execution_count": 31,
      "outputs": []
    },
    {
      "cell_type": "code",
      "metadata": {
        "id": "A_VKlp51HuxV"
      },
      "source": [
        "#Add PyTorch_SV git repo files from google drive to colab drive mount (/content/)\n",
        "#!cp -r drive/My\\ Drive/1006:\\ Term\\ Project/Colab\\ Notebooks/*.py ."
      ],
      "execution_count": null,
      "outputs": []
    },
    {
      "cell_type": "code",
      "metadata": {
        "id": "mRw57WUDH3Rk",
        "outputId": "b50c68f3-97ea-416b-a707-984b07c969ad",
        "colab": {
          "base_uri": "https://localhost:8080/"
        }
      },
      "source": [
        "!ls  -ag"
      ],
      "execution_count": 32,
      "outputs": [
        {
          "output_type": "stream",
          "text": [
            "total 71976\n",
            "drwxr-xr-x 1 root     4096 Oct 31 20:50 .\n",
            "drwxr-xr-x 1 root     4096 Oct 31 20:10 ..\n",
            "-rw-r--r-- 1 root 17200673 Oct 22 16:15 18-540_20201006-argument.delivery.mp3\n",
            "-rw------- 1 root  7915975 Oct 31 20:44 case_summaries.json\n",
            "drwx------ 2 root     4096 Oct 31 20:50 config\n",
            "drwxr-xr-x 1 root     4096 Oct 28 16:30 .config\n",
            "drwx------ 5 root     4096 Oct 31 20:14 drive\n",
            "-rw------- 1 root     1591 Oct 31 20:50 hparam.py\n",
            "-rw------- 1 root 48543272 Oct 31 20:50 model.model\n",
            "drwxr-xr-x 1 root     4096 Oct 28 16:30 sample_data\n",
            "-rw------- 1 root     6890 Oct 31 20:50 utils.py\n"
          ],
          "name": "stdout"
        }
      ]
    },
    {
      "cell_type": "markdown",
      "metadata": {
        "id": "eBaf4L52V2zC"
      },
      "source": [
        "#### Load SpeechEmbedder\n",
        "  - embedder_net w/ final checkpoint params"
      ]
    },
    {
      "cell_type": "code",
      "metadata": {
        "id": "8VraFYD_n54F"
      },
      "source": [
        "from hparam import hparam as hp\n",
        "from utils import get_centroids, get_cossim, calc_loss\n",
        "\n",
        "class SpeechEmbedder(nn.Module):\n",
        "    \n",
        "    def __init__(self):\n",
        "        super(SpeechEmbedder, self).__init__()    \n",
        "        self.LSTM_stack = nn.LSTM(hp.data.nmels, hp.model.hidden, num_layers=hp.model.num_layer, batch_first=True)\n",
        "        for name, param in self.LSTM_stack.named_parameters():\n",
        "          if 'bias' in name:\n",
        "             nn.init.constant_(param, 0.0)\n",
        "          elif 'weight' in name:\n",
        "             nn.init.xavier_normal_(param)\n",
        "        self.projection = nn.Linear(hp.model.hidden, hp.model.proj)\n",
        "        \n",
        "    def forward(self, x):\n",
        "        x, _ = self.LSTM_stack(x.float()) #(batch, frames, n_mels)\n",
        "        #only use last frame\n",
        "        x = x[:,x.size(1)-1]\n",
        "        x = self.projection(x.float())\n",
        "        x = x / torch.norm(x, dim=1).unsqueeze(1)\n",
        "        return x"
      ],
      "execution_count": 33,
      "outputs": []
    },
    {
      "cell_type": "code",
      "metadata": {
        "id": "StY6W6KIg4kZ"
      },
      "source": [
        "embedder_net = SpeechEmbedder()\n",
        "chk = torch.load(mod_path)"
      ],
      "execution_count": 34,
      "outputs": []
    },
    {
      "cell_type": "code",
      "metadata": {
        "id": "nQGgRnvSl81f",
        "outputId": "09046619-f94f-4aae-a884-0a11f0ff7667",
        "colab": {
          "base_uri": "https://localhost:8080/"
        }
      },
      "source": [
        "embedder_net.load_state_dict(chk)"
      ],
      "execution_count": 35,
      "outputs": [
        {
          "output_type": "execute_result",
          "data": {
            "text/plain": [
              "<All keys matched successfully>"
            ]
          },
          "metadata": {
            "tags": []
          },
          "execution_count": 35
        }
      ]
    },
    {
      "cell_type": "code",
      "metadata": {
        "id": "JZtiKe1BEK0o"
      },
      "source": [
        "#Add TIMIT test data to colab drive mount (if you want to evaluate model)\n",
        "#!cp -r drive/My\\ Drive/1006\\ Colab\\ Notebooks/test_tisv ."
      ],
      "execution_count": null,
      "outputs": []
    },
    {
      "cell_type": "code",
      "metadata": {
        "id": "SgTOJShApvjo"
      },
      "source": [
        "# Resave model as state_dict\n",
        "#torch.save(model.state_dict(), \"drive/My Drive/Colab Notebooks/model_statedict.pt\")"
      ],
      "execution_count": null,
      "outputs": []
    },
    {
      "cell_type": "markdown",
      "metadata": {
        "id": "wOaphJyPrtyb"
      },
      "source": [
        "# d-Vector engineering\n",
        "  - process audio file\n",
        "  - compile `dvector_create.py` inner training loop for single (full) argument\n",
        "  - output embedding of argument (subsample of argument)"
      ]
    },
    {
      "cell_type": "markdown",
      "metadata": {
        "id": "-vudRKZVwQWo"
      },
      "source": [
        "#### colab package installs\n",
        "  - install/import webrtcvad (VAD_chunk)\n",
        "  - install/import pydub (mp3 $\\rightarrow$ wav)"
      ]
    },
    {
      "cell_type": "code",
      "metadata": {
        "id": "OV6vE2BDhklW",
        "outputId": "c7a2c879-4d66-4cf2-f7e3-d7db3aa1e0d6",
        "colab": {
          "base_uri": "https://localhost:8080/"
        }
      },
      "source": [
        "# Install webrtcvad in google colab (must be ran every time)\n",
        "!pip install webrtcvad"
      ],
      "execution_count": 36,
      "outputs": [
        {
          "output_type": "stream",
          "text": [
            "Collecting webrtcvad\n",
            "\u001b[?25l  Downloading https://files.pythonhosted.org/packages/89/34/e2de2d97f3288512b9ea56f92e7452f8207eb5a0096500badf9dfd48f5e6/webrtcvad-2.0.10.tar.gz (66kB)\n",
            "\r\u001b[K     |█████                           | 10kB 26.1MB/s eta 0:00:01\r\u001b[K     |██████████                      | 20kB 27.8MB/s eta 0:00:01\r\u001b[K     |██████████████▉                 | 30kB 25.0MB/s eta 0:00:01\r\u001b[K     |███████████████████▉            | 40kB 14.4MB/s eta 0:00:01\r\u001b[K     |████████████████████████▊       | 51kB 11.9MB/s eta 0:00:01\r\u001b[K     |█████████████████████████████▊  | 61kB 12.2MB/s eta 0:00:01\r\u001b[K     |████████████████████████████████| 71kB 6.3MB/s \n",
            "\u001b[?25hBuilding wheels for collected packages: webrtcvad\n",
            "  Building wheel for webrtcvad (setup.py) ... \u001b[?25l\u001b[?25hdone\n",
            "  Created wheel for webrtcvad: filename=webrtcvad-2.0.10-cp36-cp36m-linux_x86_64.whl size=71404 sha256=9b063a426cf0aa7ed5909c1b97455e4bde6bea1b276297ff3a930f74a7c84a07\n",
            "  Stored in directory: /root/.cache/pip/wheels/44/2a/18/bd1aec41cac7c3051fe95d92a6ed446122ea31dc713c432fa1\n",
            "Successfully built webrtcvad\n",
            "Installing collected packages: webrtcvad\n",
            "Successfully installed webrtcvad-2.0.10\n"
          ],
          "name": "stdout"
        }
      ]
    },
    {
      "cell_type": "code",
      "metadata": {
        "id": "4wBqK6NqNhMr",
        "outputId": "cbbd0cc2-f9a1-428b-9569-546d5968157c",
        "colab": {
          "base_uri": "https://localhost:8080/"
        }
      },
      "source": [
        "!pip install pydub"
      ],
      "execution_count": 37,
      "outputs": [
        {
          "output_type": "stream",
          "text": [
            "Collecting pydub\n",
            "  Downloading https://files.pythonhosted.org/packages/7b/d1/fbfa79371a8cd9bb15c2e3c480d7e6e340ed5cc55005174e16f48418333a/pydub-0.24.1-py2.py3-none-any.whl\n",
            "Installing collected packages: pydub\n",
            "Successfully installed pydub-0.24.1\n"
          ],
          "name": "stdout"
        }
      ]
    },
    {
      "cell_type": "code",
      "metadata": {
        "id": "UpKR-8bNlrBu"
      },
      "source": [
        "import pydub\n",
        "import webrtcvad"
      ],
      "execution_count": 38,
      "outputs": []
    },
    {
      "cell_type": "markdown",
      "metadata": {
        "id": "vNeKlGpkJivh"
      },
      "source": [
        "### Construct Single d-vector manually\n",
        "  - independently define `dvector_create.py, VAD_segments.py` functions\n",
        "  - mp3 (could be flacc) audio file  $\\rightarrow$ properly sampled .wav \n",
        "  - .wav $\\rightarrow$ STFT representation of full audio file\n",
        "  - Analyze speaker alignment challenge (for labelled data)\n",
        "  - `VAD_chunk()`, `concat_segs()`, `get_STFT()`\n",
        "  - utilize `SpeechEmbedder()`\n",
        "  - *ToDo: perform alignment concatenation*"
      ]
    },
    {
      "cell_type": "markdown",
      "metadata": {
        "id": "fSAvdWONvQZM"
      },
      "source": [
        "#### .py functions"
      ]
    },
    {
      "cell_type": "code",
      "metadata": {
        "id": "6tiG-mrHijGv"
      },
      "source": [
        "def concat_segs(times, segs):\n",
        "    #Concatenate continuous voiced segments\n",
        "    concat_seg = []\n",
        "    seg_concat = segs[0]\n",
        "    for i in range(0, len(times)-1):\n",
        "        if times[i][1] == times[i+1][0]:\n",
        "            seg_concat = np.concatenate((seg_concat, segs[i+1]))\n",
        "        else:\n",
        "            concat_seg.append(seg_concat)\n",
        "            seg_concat = segs[i+1]\n",
        "    else:\n",
        "        concat_seg.append(seg_concat)\n",
        "    return concat_seg\n",
        "\n",
        "def get_STFTs(segs):\n",
        "    #Get 240ms STFT windows with 50% overlap\n",
        "    sr = hp.data.sr\n",
        "    STFT_frames = []\n",
        "    for seg in segs:\n",
        "        S = librosa.core.stft(y=seg, n_fft=hp.data.nfft,\n",
        "                              win_length=int(hp.data.window * sr), hop_length=int(hp.data.hop * sr))\n",
        "        S = np.abs(S)**2\n",
        "        mel_basis = librosa.filters.mel(sr, n_fft=hp.data.nfft, n_mels=hp.data.nmels)\n",
        "        S = np.log10(np.dot(mel_basis, S) + 1e-6)           # log mel spectrogram of utterances\n",
        "        for j in range(0, S.shape[1], int(.12/hp.data.hop)):\n",
        "            if j + 24 < S.shape[1]:\n",
        "                STFT_frames.append(S[:,j:j+24])\n",
        "            else:\n",
        "                break\n",
        "    return STFT_frames\n",
        "\n",
        "def align_embeddings(embeddings):\n",
        "    partitions = []\n",
        "    start = 0\n",
        "    end = 0\n",
        "    j = 1\n",
        "    for i, embedding in enumerate(embeddings):\n",
        "        if (i*.12)+.24 < j*.401:\n",
        "            end = end + 1\n",
        "        else:\n",
        "            partitions.append((start,end))\n",
        "            start = end\n",
        "            end = end + 1\n",
        "            j += 1\n",
        "    else:\n",
        "        partitions.append((start,end))\n",
        "    avg_embeddings = np.zeros((len(partitions),256))\n",
        "    for i, partition in enumerate(partitions):\n",
        "        avg_embeddings[i] = np.average(embeddings[partition[0]:partition[1]],axis=0) \n",
        "    return avg_embeddings\n",
        "\n",
        "\n",
        "def read_wave(path, sr):\n",
        "    \"\"\"Reads a .wav file.\n",
        "    Takes the path, and returns (PCM audio data, sample rate).\n",
        "    Assumes sample width == 2\n",
        "    \"\"\"\n",
        "    with contextlib.closing(wave.open(path, 'rb')) as wf:\n",
        "        num_channels = wf.getnchannels()\n",
        "        assert num_channels == 1\n",
        "        sample_width = wf.getsampwidth()\n",
        "        assert sample_width == 2\n",
        "        sample_rate = wf.getframerate()\n",
        "        assert sample_rate in (8000, 16000, 32000, 48000)\n",
        "        pcm_data = wf.readframes(wf.getnframes())\n",
        "    data, _ = librosa.load(path, sr)\n",
        "    assert len(data.shape) == 1\n",
        "    assert sr in (8000, 16000, 32000, 48000)\n",
        "    return data, pcm_data\n",
        "    \n",
        "class Frame(object):\n",
        "    \"\"\"Represents a \"frame\" of audio data.\"\"\"\n",
        "    def __init__(self, bytes, timestamp, duration):\n",
        "        self.bytes = bytes\n",
        "        self.timestamp = timestamp\n",
        "        self.duration = duration\n",
        "\n",
        "\n",
        "def frame_generator(frame_duration_ms, audio, sample_rate):\n",
        "    \"\"\"Generates audio frames from PCM audio data.\n",
        "    Takes the desired frame duration in milliseconds, the PCM data, and\n",
        "    the sample rate.\n",
        "    Yields Frames of the requested duration.\n",
        "    \"\"\"\n",
        "    n = int(sample_rate * (frame_duration_ms / 1000.0) * 2)\n",
        "    offset = 0\n",
        "    timestamp = 0.0\n",
        "    duration = (float(n) / sample_rate) / 2.0\n",
        "    while offset + n < len(audio):\n",
        "        yield Frame(audio[offset:offset + n], timestamp, duration)\n",
        "        timestamp += duration\n",
        "        offset += n\n",
        "\n",
        "\n",
        "def vad_collector(sample_rate, frame_duration_ms,\n",
        "                  padding_duration_ms, vad, frames):\n",
        "    \"\"\"Filters out non-voiced audio frames.\n",
        "    Given a webrtcvad.Vad and a source of audio frames, yields only\n",
        "    the voiced audio.\n",
        "    Uses a padded, sliding window algorithm over the audio frames.\n",
        "    When more than 90% of the frames in the window are voiced (as\n",
        "    reported by the VAD), the collector triggers and begins yielding\n",
        "    audio frames. Then the collector waits until 90% of the frames in\n",
        "    the window are unvoiced to detrigger.\n",
        "    The window is padded at the front and back to provide a small\n",
        "    amount of silence or the beginnings/endings of speech around the\n",
        "    voiced frames.\n",
        "    Arguments:\n",
        "    sample_rate - The audio sample rate, in Hz.\n",
        "    frame_duration_ms - The frame duration in milliseconds.\n",
        "    padding_duration_ms - The amount to pad the window, in milliseconds.\n",
        "    vad - An instance of webrtcvad.Vad.\n",
        "    frames - a source of audio frames (sequence or generator).\n",
        "    Returns: A generator that yields PCM audio data.\n",
        "    \"\"\"\n",
        "    num_padding_frames = int(padding_duration_ms / frame_duration_ms)\n",
        "    # We use a deque for our sliding window/ring buffer.\n",
        "    ring_buffer = collections.deque(maxlen=num_padding_frames)\n",
        "    # We have two states: TRIGGERED and NOTTRIGGERED. We start in the\n",
        "    # NOTTRIGGERED state.\n",
        "    triggered = False\n",
        "\n",
        "    voiced_frames = []\n",
        "    for frame in frames:\n",
        "        is_speech = vad.is_speech(frame.bytes, sample_rate)\n",
        "\n",
        "        if not triggered:\n",
        "            ring_buffer.append((frame, is_speech))\n",
        "            num_voiced = len([f for f, speech in ring_buffer if speech])\n",
        "            # If we're NOTTRIGGERED and more than 90% of the frames in\n",
        "            # the ring buffer are voiced frames, then enter the\n",
        "            # TRIGGERED state.\n",
        "            if num_voiced > 0.9 * ring_buffer.maxlen:\n",
        "                triggered = True\n",
        "                start = ring_buffer[0][0].timestamp\n",
        "                # We want to yield all the audio we see from now until\n",
        "                # we are NOTTRIGGERED, but we have to start with the\n",
        "                # audio that's already in the ring buffer.\n",
        "                for f, s in ring_buffer:\n",
        "                    voiced_frames.append(f)\n",
        "                ring_buffer.clear()\n",
        "        else:\n",
        "            # We're in the TRIGGERED state, so collect the audio data\n",
        "            # and add it to the ring buffer.\n",
        "            voiced_frames.append(frame)\n",
        "            ring_buffer.append((frame, is_speech))\n",
        "            num_unvoiced = len([f for f, speech in ring_buffer if not speech])\n",
        "            # If more than 90% of the frames in the ring buffer are\n",
        "            # unvoiced, then enter NOTTRIGGERED and yield whatever\n",
        "            # audio we've collected.\n",
        "            if num_unvoiced > 0.9 * ring_buffer.maxlen:\n",
        "                triggered = False\n",
        "                yield (start, frame.timestamp + frame.duration)\n",
        "                ring_buffer.clear()\n",
        "                voiced_frames = []\n",
        "    # If we have any leftover voiced audio when we run out of input,\n",
        "    # yield it.\n",
        "    if voiced_frames:\n",
        "        yield (start, frame.timestamp + frame.duration)\n",
        "\n",
        "\n",
        "def VAD_chunk(aggressiveness, path):\n",
        "    audio, byte_audio = read_wave(path, hp.data.sr)\n",
        "    vad = webrtcvad.Vad(int(aggressiveness))\n",
        "    frames = frame_generator(20, byte_audio, hp.data.sr)\n",
        "    frames = list(frames)\n",
        "    times = vad_collector(hp.data.sr, 20, 200, vad, frames)\n",
        "    speech_times = []\n",
        "    speech_segs = []\n",
        "    for i, time in enumerate(times):\n",
        "        start = np.round(time[0],decimals=2)\n",
        "        end = np.round(time[1],decimals=2)\n",
        "        j = start\n",
        "        while j + .4 < end:\n",
        "            end_j = np.round(j+.4,decimals=2)\n",
        "            speech_times.append((j, end_j))\n",
        "            speech_segs.append(audio[int(j*hp.data.sr):int(end_j*hp.data.sr)])\n",
        "            j = end_j\n",
        "        else:\n",
        "            speech_times.append((j, end))\n",
        "            speech_segs.append(audio[int(j*hp.data.sr):int(end*hp.data.sr)])\n",
        "    return speech_times, speech_segs"
      ],
      "execution_count": 39,
      "outputs": []
    },
    {
      "cell_type": "markdown",
      "metadata": {
        "id": "CXuTg8t0vTDo"
      },
      "source": [
        "#### audio processing\n"
      ]
    },
    {
      "cell_type": "code",
      "metadata": {
        "id": "602Dx5s2OY9x",
        "outputId": "a32e6779-d90a-41c8-e2f9-3da0c07e4e0e",
        "colab": {
          "base_uri": "https://localhost:8080/"
        }
      },
      "source": [
        "#mp3 to wav with predefined frame_rate/sample_rate \n",
        "\n",
        "#!rm 18-540_argument.wav\n",
        "sound = pydub.AudioSegment.from_mp3(ap)\n",
        "sound = sound.set_frame_rate(hp.data.sr)\n",
        "sound.export(ap_wav, format=\"wav\")"
      ],
      "execution_count": 40,
      "outputs": [
        {
          "output_type": "execute_result",
          "data": {
            "text/plain": [
              "<_io.BufferedRandom name='18-540_argument.wav'>"
            ]
          },
          "metadata": {
            "tags": []
          },
          "execution_count": 40
        }
      ]
    },
    {
      "cell_type": "code",
      "metadata": {
        "id": "F5UHw4hlKG4T"
      },
      "source": [
        "train_sequence = []\n",
        "train_cluster_id = []\n",
        "label = 0\n",
        "count = 0\n",
        "train_saved = False"
      ],
      "execution_count": 41,
      "outputs": []
    },
    {
      "cell_type": "code",
      "metadata": {
        "id": "d0cP6ekJmc0i"
      },
      "source": [
        "'''\n",
        "2 -> webrtcvad.Vad(2)\n",
        "webrtcvad github: aggressiveness mode, \n",
        "which is an integer between 0 and 3. \n",
        "0 is the least aggressive about \n",
        "filtering out non-speech, \n",
        "3 is the most aggressive.\n",
        "'''\n",
        "\n",
        "times, segs = VAD_chunk(2, ap_wav)"
      ],
      "execution_count": 42,
      "outputs": []
    },
    {
      "cell_type": "markdown",
      "metadata": {
        "id": "tks6PE7Ubscv"
      },
      "source": [
        "##### Analyzing Speaker Alignment Issue\n",
        "  -  d-vectorization process re-organizes sound\n",
        "  - need to retain alignment\n",
        "  -  generally, sound-transcription aligning should be handled in `concat_segs`\n",
        "  - **Since we are engineering our data to enter the pipeline in the same format/structure as the original implementation, we need to link each resulting embedding with its start & end time then we just concatenate all the embeddings for a case in the proper order and keep the labels**\n",
        "\n",
        "Methodology:\n",
        "  + sentence/utterance (however we divide it) by **one** speaker enters pipeline\n",
        "    - comes with time started, time ended\n",
        "  + utterance gets chopped up (`VAD_chunk()`, `concat_segs()`, `get_STFT()`) => LMS (slices X log-melspectrogram)\n",
        "    - we lose where each word takes place in time in this process, but I dont think we care\n",
        "  + LMS -> SpeechEmbedder() => `embeddings` (slices X 256)\n",
        "  + tuple time started, time ended, `embeddings` & add to list \n",
        "  + order list & concat embeddings"
      ]
    },
    {
      "cell_type": "code",
      "metadata": {
        "id": "gc-kI5dPc5NM",
        "outputId": "3e1399db-66b8-4f95-c456-d01e28fd43f5",
        "colab": {
          "base_uri": "https://localhost:8080/"
        }
      },
      "source": [
        "len(time_list)"
      ],
      "execution_count": 59,
      "outputs": [
        {
          "output_type": "execute_result",
          "data": {
            "text/plain": [
              "233"
            ]
          },
          "metadata": {
            "tags": []
          },
          "execution_count": 59
        }
      ]
    },
    {
      "cell_type": "code",
      "metadata": {
        "id": "NcGo1zN6dfaU"
      },
      "source": [
        "t = []\n",
        "for tl in time_list:\n",
        "  t.append(tl[-1][-1])"
      ],
      "execution_count": 77,
      "outputs": []
    },
    {
      "cell_type": "code",
      "metadata": {
        "id": "TQse0tRwc7Be",
        "outputId": "936263d6-c0ec-46a5-9f50-ccbb779744b7",
        "colab": {
          "base_uri": "https://localhost:8080/"
        }
      },
      "source": [
        "len(t)"
      ],
      "execution_count": 78,
      "outputs": [
        {
          "output_type": "execute_result",
          "data": {
            "text/plain": [
              "233"
            ]
          },
          "metadata": {
            "tags": []
          },
          "execution_count": 78
        }
      ]
    },
    {
      "cell_type": "code",
      "metadata": {
        "id": "KqSVW321eNM2",
        "outputId": "91a1be6b-a8db-4ff7-b4be-eb9506c91f94",
        "colab": {
          "base_uri": "https://localhost:8080/"
        }
      },
      "source": [
        "t[0:5]"
      ],
      "execution_count": 81,
      "outputs": [
        {
          "output_type": "execute_result",
          "data": {
            "text/plain": [
              "[7.24, 140.96, 161.56, 176.72, 177.48]"
            ]
          },
          "metadata": {
            "tags": []
          },
          "execution_count": 81
        }
      ]
    },
    {
      "cell_type": "code",
      "metadata": {
        "id": "TWLZjwlmdGMe",
        "outputId": "49f00d89-14a4-49bb-9917-caecf76195d5",
        "colab": {
          "base_uri": "https://localhost:8080/"
        }
      },
      "source": [
        "time_list[0:5]"
      ],
      "execution_count": 86,
      "outputs": [
        {
          "output_type": "execute_result",
          "data": {
            "text/plain": [
              "[[(0, 7.24)],\n",
              " [(7.24, 15.56),\n",
              "  (15.56, 18.76),\n",
              "  (18.76, 28.64),\n",
              "  (28.64, 63.52),\n",
              "  (63.52, 75.72),\n",
              "  (75.72, 90.12),\n",
              "  (90.12, 96.64),\n",
              "  (96.64, 109),\n",
              "  (109, 115.04),\n",
              "  (115.04, 120.68),\n",
              "  (120.68, 131.48),\n",
              "  (131.48, 140.96)],\n",
              " [(140.96, 161.56)],\n",
              " [(161.56, 161.92), (161.92, 163.88), (163.88, 168.36), (168.36, 176.72)],\n",
              " [(176.72, 177.48)]]"
            ]
          },
          "metadata": {
            "tags": []
          },
          "execution_count": 86
        }
      ]
    },
    {
      "cell_type": "code",
      "metadata": {
        "id": "ZjHaaDoDdTHR",
        "outputId": "b2339324-6018-4574-8a7b-3cbb2cb002db",
        "colab": {
          "base_uri": "https://localhost:8080/"
        }
      },
      "source": [
        "transcript_list[0]"
      ],
      "execution_count": 68,
      "outputs": [
        {
          "output_type": "execute_result",
          "data": {
            "text/plain": [
              "['We will hear argument first this morning in Case 18-956, Google versus Oracle. Mr. Goldstein.']"
            ]
          },
          "metadata": {
            "tags": []
          },
          "execution_count": 68
        }
      ]
    },
    {
      "cell_type": "code",
      "metadata": {
        "id": "cio3Lpe3dVbS",
        "outputId": "55d61d0b-05f7-4fbd-c58a-0ac241243706",
        "colab": {
          "base_uri": "https://localhost:8080/"
        }
      },
      "source": [
        "transcript_list[1]"
      ],
      "execution_count": 69,
      "outputs": [
        {
          "output_type": "execute_result",
          "data": {
            "text/plain": [
              "['Mr. Chief Justice, and may it please the Court: The merger doctrine resolved the copyrightability question in this case.',\n",
              " 'Oracle has a copyright to the computer code in Java SE but not a patent.',\n",
              " \"That means that the public, not Oracle, has the right to Java SE's function, and Oracle cannot leverage its copyright to create patent-like rights.\",\n",
              " \"Specifically, under the merger doctrine, there is no copyright protection for computer code that is the only way to perform those functions. Here, Java software developers have the right to use certain commands to create applications for Google's Android smartphone platform, but, to work, the commands require Google to reuse an exact set of declarations from Java SE, like a key that fits into a lock. Because there are no substitutes, Oracle is impermissibly claiming the exclusive right not merely to what the declarations say but also to what the declarations do.\",\n",
              " 'That is not a copyright; it is a patent right. With respect to fair use, the long-settled practice of reusing software interfaces is critical to modern interoperable computer software.',\n",
              " 'Here, reusing the minimally creative declarations allowed the developers to write millions of creative applications that are used by more than a billion people. But those policy questions are almost academic because the issue is not whether this Court would find fair use.',\n",
              " 'The standard of review asks the much narrower question whether the jury could reasonably find fair use.',\n",
              " 'Oracle now obviously regrets its demand that the jury weigh all the evidence and decide fair use in a general verdict that contains no subsidiary findings. No previous court ever held that only a court may decide fair use.',\n",
              " 'It is so fact-bound that no prior appellate court ever overturned a fair use verdict.',\n",
              " 'This uniquely contested case should not be the first. Today, you will hear three lawyers present legal arguments for an hour.',\n",
              " 'In 2016, the jury heard the starkly conflicting testimony of almost 30 witnesses and reviewed roughly 200 exhibits over two-and-a-half weeks.',\n",
              " 'This case perfectly illustrates, as this Court recently reiterated in Georgia versus Public.Resource, that fair use \"is notoriously fact-sensitive and often cannot be resolved without a trial.\" Thank you.']"
            ]
          },
          "metadata": {
            "tags": []
          },
          "execution_count": 69
        }
      ]
    },
    {
      "cell_type": "markdown",
      "metadata": {
        "id": "qgR2Ft4Ucy3i"
      },
      "source": [
        "#### audio processing contd"
      ]
    },
    {
      "cell_type": "code",
      "metadata": {
        "id": "wuaZ0Pl73_Qv"
      },
      "source": [
        "# probably where we will need to \n",
        "# keep track of our alignment \n",
        "# with speaker labels\n",
        "concat_seg = concat_segs(times, segs)"
      ],
      "execution_count": 54,
      "outputs": []
    },
    {
      "cell_type": "code",
      "metadata": {
        "id": "m_VU2a0WcMi2",
        "outputId": "2ee717e2-1994-4890-bd8e-6a833963f6a3",
        "colab": {
          "base_uri": "https://localhost:8080/"
        }
      },
      "source": [
        "len(concat_seg)"
      ],
      "execution_count": 57,
      "outputs": [
        {
          "output_type": "execute_result",
          "data": {
            "text/plain": [
              "573"
            ]
          },
          "metadata": {
            "tags": []
          },
          "execution_count": 57
        }
      ]
    },
    {
      "cell_type": "code",
      "metadata": {
        "id": "7idVELWymc21",
        "outputId": "dde32e61-bd66-4383-a28a-e75fd9df3555",
        "colab": {
          "base_uri": "https://localhost:8080/"
        }
      },
      "source": [
        "print(type(times))\n",
        "print(type(times[0]))\n",
        "print(type(segs))\n",
        "print(type(segs[0]))\n",
        "print(\"times[0]:\", times[0])\n",
        "print(\"times[1]:\", times[1])\n",
        "print(\"times[-2]:\", times[-2])\n",
        "print(\"times[-1]:\", times[-1])\n",
        "print(\"segs[0] shape:\", np.shape(segs[0])[0])"
      ],
      "execution_count": 58,
      "outputs": [
        {
          "output_type": "stream",
          "text": [
            "<class 'list'>\n",
            "<class 'tuple'>\n",
            "<class 'list'>\n",
            "<class 'numpy.ndarray'>\n",
            "times[0]: (0.1, 0.5)\n",
            "times[1]: (0.5, 0.9)\n",
            "times[-2]: (4292.4, 4292.8)\n",
            "times[-1]: (4292.8, 4292.82)\n",
            "segs[0] shape: 6400\n"
          ],
          "name": "stdout"
        }
      ]
    },
    {
      "cell_type": "code",
      "metadata": {
        "id": "-KqPkP8dmc5F",
        "outputId": "3989782e-55b4-4fcf-cf9c-3c886f1fbd8e",
        "colab": {
          "base_uri": "https://localhost:8080/",
          "height": 265
        }
      },
      "source": [
        "# Visualization of sound wave estimation \n",
        "# for time slice where voice activity is detected\n",
        "import matplotlib.pyplot as plt\n",
        "plt.plot(range(np.shape(segs[0])[0]), segs[0])\n",
        "plt.show()"
      ],
      "execution_count": null,
      "outputs": [
        {
          "output_type": "display_data",
          "data": {
            "image/png": "[encoded data removed]",
            "text/plain": [
              "<Figure size 432x288 with 1 Axes>"
            ]
          },
          "metadata": {
            "tags": [],
            "needs_background": "light"
          }
        }
      ]
    },
    {
      "cell_type": "code",
      "metadata": {
        "id": "6_991f6Bmc-r"
      },
      "source": [
        "'''\n",
        "Short Time Fourier Transform\n",
        "from function comments: 240ms STFT windows with 50% overlap\n",
        "outputs 40 X 24 -> \n",
        "  - 40=number of mel energies (hparam)\n",
        "  - 24 = ?...\n",
        "'''\n",
        "STFT_frames = get_STFTs(concat_seg)"
      ],
      "execution_count": 84,
      "outputs": []
    },
    {
      "cell_type": "code",
      "metadata": {
        "id": "eee9Dogghc3O",
        "outputId": "e127e4bc-3b8a-4eae-b5f0-e25d24631a66",
        "colab": {
          "base_uri": "https://localhost:8080/"
        }
      },
      "source": [
        "len(STFT_frames)"
      ],
      "execution_count": 85,
      "outputs": [
        {
          "output_type": "execute_result",
          "data": {
            "text/plain": [
              "33349"
            ]
          },
          "metadata": {
            "tags": []
          },
          "execution_count": 85
        }
      ]
    },
    {
      "cell_type": "code",
      "metadata": {
        "id": "GKMDB79Vg7rL",
        "outputId": "454a6ea7-0dd4-42a6-d228-781ff884edb8",
        "colab": {
          "base_uri": "https://localhost:8080/"
        }
      },
      "source": [
        "len(concat_seg)"
      ],
      "execution_count": 82,
      "outputs": [
        {
          "output_type": "execute_result",
          "data": {
            "text/plain": [
              "573"
            ]
          },
          "metadata": {
            "tags": []
          },
          "execution_count": 82
        }
      ]
    },
    {
      "cell_type": "code",
      "metadata": {
        "id": "-Ff2rXFrp6tu",
        "outputId": "d6181e7d-908d-40fe-b5c7-58e79d36a4eb",
        "colab": {
          "base_uri": "https://localhost:8080/",
          "height": 52
        }
      },
      "source": [
        "print(\"# frames (depends on file size):\", len(STFT_frames))\n",
        "print(\"Predefined output shape:\", np.shape(STFT_frames[0]))"
      ],
      "execution_count": null,
      "outputs": [
        {
          "output_type": "stream",
          "text": [
            "# frames (depends on file size): 33349\n",
            "Predefined output shape: (40, 24)\n"
          ],
          "name": "stdout"
        }
      ]
    },
    {
      "cell_type": "code",
      "metadata": {
        "id": "MktoMXJVp6xh",
        "outputId": "3b0ef73f-9282-4985-af90-9482c0ed1d74",
        "colab": {
          "base_uri": "https://localhost:8080/",
          "height": 34
        }
      },
      "source": [
        "# reshape & convert to tensor\n",
        "STFT_frames = np.stack(STFT_frames, axis=2)\n",
        "STFT_frames = torch.tensor(np.transpose(STFT_frames, axes=(2,1,0)))\n",
        "print(\"STFT size:\", STFT_frames.size())"
      ],
      "execution_count": null,
      "outputs": [
        {
          "output_type": "stream",
          "text": [
            "STFT size: torch.Size([33349, 24, 40])\n"
          ],
          "name": "stdout"
        }
      ]
    },
    {
      "cell_type": "code",
      "metadata": {
        "id": "WPpWMuqV2ofK"
      },
      "source": [
        "# 33349 to large for available RAM in Colab (total of 10GB i think!)\n",
        "# 500 slice limit sample for testing\n",
        "# send to device here to save RAM\n",
        "STFT_sample = STFT_frames[0:500, :, :].to(hp.device)"
      ],
      "execution_count": null,
      "outputs": []
    },
    {
      "cell_type": "markdown",
      "metadata": {
        "id": "TvIxwEMm4abg"
      },
      "source": [
        "#### Embedding"
      ]
    },
    {
      "cell_type": "code",
      "metadata": {
        "id": "yQ_yU36oqZcN"
      },
      "source": [
        "# Generate embedding\n",
        "# model will be on eval for court arguments\n",
        "embedder_net.eval()\n",
        "embedder_net.to(hp.device)\n",
        "embeddings = embedder_net(STFT_sample)"
      ],
      "execution_count": null,
      "outputs": []
    },
    {
      "cell_type": "code",
      "metadata": {
        "id": "R24cQQ5_2fIg",
        "outputId": "66cca01c-7305-41bc-b31a-ba5b71ecfba8",
        "colab": {
          "base_uri": "https://localhost:8080/",
          "height": 34
        }
      },
      "source": [
        "embeddings.size()"
      ],
      "execution_count": null,
      "outputs": [
        {
          "output_type": "execute_result",
          "data": {
            "text/plain": [
              "torch.Size([500, 256])"
            ]
          },
          "metadata": {
            "tags": []
          },
          "execution_count": 49
        }
      ]
    },
    {
      "cell_type": "code",
      "metadata": {
        "id": "kuXRL5USxrdb",
        "outputId": "30449395-e3c3-4013-9f4f-2b0023e15d81",
        "colab": {
          "base_uri": "https://localhost:8080/",
          "height": 603
        }
      },
      "source": [
        "# our first dvector \n",
        "embeddings[0,:]"
      ],
      "execution_count": null,
      "outputs": [
        {
          "output_type": "execute_result",
          "data": {
            "text/plain": [
              "tensor([-0.1240,  0.0455,  0.0003,  0.0453,  0.0002,  0.1131,  0.0588,  0.0170,\n",
              "         0.0087, -0.0361, -0.0113,  0.0544, -0.0334, -0.0327, -0.0378,  0.0191,\n",
              "         0.0196, -0.0374, -0.0074,  0.0381, -0.0815, -0.0518, -0.0827, -0.1062,\n",
              "        -0.0139,  0.0607,  0.1170, -0.0645,  0.0676,  0.0091, -0.0537, -0.0237,\n",
              "        -0.0245, -0.0499, -0.0737, -0.0739,  0.2134,  0.0644,  0.0091,  0.0070,\n",
              "         0.0435, -0.0402,  0.0098, -0.0025, -0.0934,  0.0739, -0.0394,  0.0501,\n",
              "         0.0916,  0.0941,  0.0465, -0.0052, -0.0636,  0.0353,  0.0458, -0.1032,\n",
              "         0.0343, -0.0608, -0.0391,  0.0025,  0.0645,  0.0642, -0.0426, -0.0322,\n",
              "         0.0850, -0.1075, -0.1069, -0.1096, -0.0256,  0.0701, -0.0467, -0.0091,\n",
              "        -0.1201, -0.0914,  0.0242,  0.0347, -0.0058,  0.0011, -0.0058,  0.0547,\n",
              "         0.0149,  0.0378, -0.0487,  0.0207,  0.0200,  0.0044,  0.0593, -0.0604,\n",
              "        -0.0488, -0.0832,  0.0082, -0.0368,  0.0276,  0.0317, -0.0365,  0.0466,\n",
              "        -0.0534, -0.0883, -0.0082,  0.0701, -0.0056,  0.0529, -0.0500,  0.0043,\n",
              "        -0.0537, -0.0520, -0.0078, -0.0873, -0.0107,  0.1432, -0.0697,  0.0952,\n",
              "        -0.0328,  0.0831,  0.0506, -0.0526,  0.0331, -0.0358,  0.0224,  0.0028,\n",
              "         0.1003,  0.0558, -0.1688, -0.0307,  0.1427, -0.0493, -0.0142, -0.0062,\n",
              "         0.0253,  0.1076,  0.1138,  0.0186,  0.0581, -0.0142, -0.0490, -0.0625,\n",
              "         0.0581, -0.0159,  0.0968,  0.0849,  0.0742, -0.0149, -0.0178,  0.0090,\n",
              "         0.0349, -0.0108,  0.0592, -0.0189,  0.0484,  0.0164,  0.0090,  0.0074,\n",
              "        -0.0521, -0.0590, -0.0966, -0.0468, -0.0414,  0.0637, -0.0571, -0.0455,\n",
              "        -0.0593,  0.0069,  0.0646, -0.0044, -0.1524, -0.0231, -0.0173, -0.1141,\n",
              "         0.0245,  0.0044, -0.0979,  0.0381,  0.2154, -0.0191, -0.0405,  0.0853,\n",
              "         0.0485,  0.0195, -0.0625, -0.0065, -0.0302,  0.0025, -0.0280, -0.1440,\n",
              "        -0.0723, -0.0425, -0.0315, -0.0650, -0.0395, -0.0367,  0.0060,  0.0064,\n",
              "        -0.0061,  0.0406, -0.0544,  0.0320,  0.0489, -0.0166, -0.0450,  0.0059,\n",
              "         0.1162, -0.1441,  0.0310,  0.0096, -0.0252, -0.1320, -0.0144, -0.0247,\n",
              "         0.0899, -0.0178,  0.0103,  0.1224,  0.0155,  0.0266, -0.0244,  0.0266,\n",
              "        -0.0578,  0.0156,  0.0322,  0.0051,  0.0949,  0.0425, -0.0514,  0.1042,\n",
              "         0.0225,  0.0567,  0.1584, -0.0947,  0.0187, -0.0122, -0.0457,  0.0240,\n",
              "        -0.0957, -0.0221, -0.0109, -0.0620, -0.0255,  0.0632,  0.0968, -0.0360,\n",
              "         0.0757, -0.0147, -0.0575,  0.0960,  0.0879,  0.0088,  0.0389, -0.0156,\n",
              "         0.0532,  0.0243, -0.0038,  0.0459,  0.0446,  0.0534, -0.0974,  0.0761],\n",
              "       device='cuda:0', grad_fn=<SliceBackward>)"
            ]
          },
          "metadata": {
            "tags": []
          },
          "execution_count": 52
        }
      ]
    },
    {
      "cell_type": "markdown",
      "metadata": {
        "id": "rYLWilgbUUBz"
      },
      "source": [
        "# PyTorch SV dvector_create guts\n",
        "  - dont run, just for reference\n"
      ]
    },
    {
      "cell_type": "code",
      "metadata": {
        "id": "Ve38TPitLf3w"
      },
      "source": [
        "times, segs = VAD_chunk(2, ap_wav)\n",
        "if segs == []:\n",
        "    print('No voice activity detected')\n",
        "else:\n",
        "  print(\"proceeding\") \n",
        "concat_seg = concat_segs(times, segs)\n",
        "STFT_frames = get_STFTs(concat_seg)\n",
        "STFT_frames = np.stack(STFT_frames, axis=2)\n",
        "STFT_frames = torch.tensor(np.transpose(STFT_frames, axes=(2,1,0)))\n",
        "print(\"up to embedder\")\n",
        "embeddings = embedder_net(STFT_frames)\n",
        "aligned_embeddings = align_embeddings(embeddings.detach().numpy())\n",
        "train_sequence.append(aligned_embeddings)\n",
        "for embedding in aligned_embeddings:\n",
        "    train_cluster_id.append(str(label))\n",
        "if count == 0:\n",
        "    print('Processed {0}/{1} files'.format(count, len(audio_path)))"
      ],
      "execution_count": null,
      "outputs": []
    },
    {
      "cell_type": "code",
      "metadata": {
        "id": "ohlYQAkbRblt",
        "outputId": "fa6fde9d-9a9f-466a-f87d-fbf260d86032",
        "colab": {
          "base_uri": "https://localhost:8080/",
          "height": 34
        }
      },
      "source": [
        "path = ap_wav\n",
        "with contextlib.closing(wave.open(path, 'rb')) as wf:\n",
        "  print(\"test:\", wf.getframerate())\n",
        "  num_channels = wf.getnchannels()\n",
        "  assert num_channels == 1\n",
        "  sample_width = wf.getsampwidth()\n",
        "  assert sample_width == 2\n",
        "  sample_rate = wf.getframerate()\n",
        "  assert sample_rate in (8000, 16000, 32000, 48000)\n",
        "  pcm_data = wf.readframes(wf.getnframes())\n",
        "data, _ = librosa.load(path, sr)\n",
        "assert len(data.shape) == 1\n",
        "assert sr in (8000, 16000, 32000, 48000)"
      ],
      "execution_count": null,
      "outputs": [
        {
          "output_type": "stream",
          "text": [
            "test: 16000\n"
          ],
          "name": "stdout"
        }
      ]
    },
    {
      "cell_type": "code",
      "metadata": {
        "id": "5WE9BmurJoi5"
      },
      "source": [
        "train_sequence = np.concatenate(train_sequence,axis=0)\n",
        "train_cluster_id = np.asarray(train_cluster_id)"
      ],
      "execution_count": null,
      "outputs": []
    },
    {
      "cell_type": "code",
      "metadata": {
        "id": "7DXlPr1Pihml",
        "outputId": "0bc80bcd-3a46-485b-f6f1-ad1b7667975d",
        "colab": {
          "base_uri": "https://localhost:8080/",
          "height": 105
        }
      },
      "source": [
        "!python dvector_create.py"
      ],
      "execution_count": null,
      "outputs": [
        {
          "output_type": "stream",
          "text": [
            "Traceback (most recent call last):\n",
            "  File \"dvector_create.py\", line 119, in <module>\n",
            "    train_sequence = np.concatenate(train_sequence,axis=0)\n",
            "  File \"<__array_function__ internals>\", line 6, in concatenate\n",
            "ValueError: need at least one array to concatenate\n"
          ],
          "name": "stdout"
        }
      ]
    }
  ]
}