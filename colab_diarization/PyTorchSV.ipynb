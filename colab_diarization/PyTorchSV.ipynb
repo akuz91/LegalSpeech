{
  "nbformat": 4,
  "nbformat_minor": 0,
  "metadata": {
    "colab": {
      "name": "PyTorchSV.ipynb",
      "provenance": [],
      "collapsed_sections": []
    },
    "kernelspec": {
      "name": "python3",
      "display_name": "Python 3"
    },
    "accelerator": "GPU"
  },
  "cells": [
    {
      "cell_type": "code",
      "metadata": {
        "id": "Pe9-IabMhE6e",
        "outputId": "3a32ae36-f999-4ed6-bca9-efafa702a24d",
        "colab": {
          "base_uri": "https://localhost:8080/",
          "height": 34
        }
      },
      "source": [
        "from google.colab import drive\n",
        "drive.mount('/content/drive')"
      ],
      "execution_count": 1,
      "outputs": [
        {
          "output_type": "stream",
          "text": [
            "Mounted at /content/drive\n"
          ],
          "name": "stdout"
        }
      ]
    },
    {
      "cell_type": "markdown",
      "metadata": {
        "id": "YeYAw_3OhKiL"
      },
      "source": [
        "## Uploading necessary files/data to colab\n",
        "\n",
        "- mount Google drive\n",
        "- directory in `/content/drive/My Drive` called `Colab Notebooks/diarization` (created in google drive)\n",
        "  - diarization contains:\n",
        "      - PyTorch_SV Github repo files (didnt include VAD/dvector)\n",
        "      - train_tisv, test_tisv folders from preprocessing \n",
        "  - creates config folder in drive & moves `config.yaml` into it\n",
        "\n",
        "**.py files must be edited before performing copy/mv**"
      ]
    },
    {
      "cell_type": "code",
      "metadata": {
        "id": "qyDwZwJhhKpX",
        "outputId": "4ee5d045-5a31-4452-f22f-2ae4e6ef9083",
        "colab": {
          "base_uri": "https://localhost:8080/",
          "height": 170
        }
      },
      "source": [
        "!cp -r \"drive/My Drive/Colab Notebooks/diarization\" .\n",
        "!mv -v diarization/* .\n",
        "!mkdir config \n",
        "!mv -v config.yaml config/"
      ],
      "execution_count": 3,
      "outputs": [
        {
          "output_type": "stream",
          "text": [
            "renamed 'diarization/config.yaml' -> './config.yaml'\n",
            "renamed 'diarization/data_load.py' -> './data_load.py'\n",
            "renamed 'diarization/hparam.py' -> './hparam.py'\n",
            "renamed 'diarization/speech_embedder_net.py' -> './speech_embedder_net.py'\n",
            "renamed 'diarization/test_tisv' -> './test_tisv'\n",
            "renamed 'diarization/train_speech_embedder.py' -> './train_speech_embedder.py'\n",
            "renamed 'diarization/train_tisv' -> './train_tisv'\n",
            "renamed 'diarization/utils.py' -> './utils.py'\n",
            "renamed 'config.yaml' -> 'config/config.yaml'\n"
          ],
          "name": "stdout"
        }
      ]
    },
    {
      "cell_type": "code",
      "metadata": {
        "id": "z065ScB5hKrs",
        "outputId": "4446600b-a51d-4229-f57e-d326e1b3ab12",
        "colab": {
          "base_uri": "https://localhost:8080/",
          "height": 68
        }
      },
      "source": [
        "!ls"
      ],
      "execution_count": 27,
      "outputs": [
        {
          "output_type": "stream",
          "text": [
            "config\t      drive\t   sample_data\t\t   train_speech_embedder.py\n",
            "data_load.py  hparam.py    speech_embedder_net.py  train_tisv\n",
            "diarization   __pycache__  test_tisv\t\t   utils.py\n"
          ],
          "name": "stdout"
        }
      ]
    },
    {
      "cell_type": "code",
      "metadata": {
        "id": "XoNgDkk-ioFf"
      },
      "source": [
        "# overwrite config.yaml if changes are made\n",
        "!cp -fr \"drive/My Drive/Colab Notebooks/diarization/config.yaml\" ./config/"
      ],
      "execution_count": 11,
      "outputs": []
    },
    {
      "cell_type": "code",
      "metadata": {
        "id": "7Vzht9IgiG6a",
        "outputId": "e55774b0-e363-4649-f525-6fa118ffcb59",
        "colab": {
          "base_uri": "https://localhost:8080/",
          "height": 34
        }
      },
      "source": [
        "#Sanity Check\n",
        "from hparam import hparam\n",
        "hparam.train.checkpoint_interval"
      ],
      "execution_count": 26,
      "outputs": [
        {
          "output_type": "execute_result",
          "data": {
            "text/plain": [
              "15"
            ]
          },
          "metadata": {
            "tags": []
          },
          "execution_count": 26
        }
      ]
    },
    {
      "cell_type": "markdown",
      "metadata": {
        "id": "dk4wnutdhPrQ"
      },
      "source": [
        "#### run training script"
      ]
    },
    {
      "cell_type": "code",
      "metadata": {
        "id": "dl_aXVsvhKt0"
      },
      "source": [
        "!python train_speech_embedder.py"
      ],
      "execution_count": null,
      "outputs": []
    },
    {
      "cell_type": "code",
      "metadata": {
        "id": "bIsC3nQckW95"
      },
      "source": [
        ""
      ],
      "execution_count": null,
      "outputs": []
    }
  ]
}