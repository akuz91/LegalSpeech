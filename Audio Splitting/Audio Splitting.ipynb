{
 "cells": [
  {
   "cell_type": "code",
   "execution_count": 1,
   "metadata": {},
   "outputs": [],
   "source": [
    "import json\n",
    "import re\n",
    "import os\n",
    "# import pandas as pd\n",
    "# import numpy as np"
   ]
  },
  {
   "cell_type": "code",
   "execution_count": 2,
   "metadata": {},
   "outputs": [],
   "source": [
    "with open(os.getcwd() + '/oyez_metadata_11_to_20.json') as f:\n",
    "    data = json.load(f)"
   ]
  },
  {
   "cell_type": "code",
   "execution_count": null,
   "metadata": {},
   "outputs": [],
   "source": [
    "# data = load oyez_metadata_11_to_20.json from /scratch/smt570/audio_metadata\n",
    "\n",
    "# Script iterates through dockets in file /scratch/smt570/audio_data/wavs\n",
    "    # dockets = save all *.wav file names as a list without the '.wav' part\n",
    "    \n",
    "    # for docket in dockets:\n",
    "        # Create folder for docket called DOCKET#_SCOTUS\n",
    "        \n",
    "        # Code for txt file\n",
    "        \n",
    "    "
   ]
  },
  {
   "cell_type": "code",
   "execution_count": 3,
   "metadata": {},
   "outputs": [],
   "source": [
    "docket = '17-1268'"
   ]
  },
  {
   "cell_type": "code",
   "execution_count": 4,
   "metadata": {
    "scrolled": true
   },
   "outputs": [],
   "source": [
    "times = []\n",
    "for t in data[docket][3]:\n",
    "    flatten = [item for sublist in t for item in sublist]\n",
    "    times.append(flatten)"
   ]
  },
  {
   "cell_type": "code",
   "execution_count": 5,
   "metadata": {},
   "outputs": [],
   "source": [
    "assert len(times) == len(data[docket][0])"
   ]
  },
  {
   "cell_type": "code",
   "execution_count": 6,
   "metadata": {},
   "outputs": [],
   "source": [
    "speaker_roles =  data[docket][2]\n",
    "speaker_roles = [item for sublist in speaker_roles for item in sublist]\n",
    "\n",
    "speakers =  data[docket][1]\n",
    "# Remove all non-word characters\n",
    "speakers =[re.sub(r\"[^\\w\\s]\", '', s) for s in speakers]\n",
    "# Replace all runs of whitespace with underscore\n",
    "speakers =[re.sub(r\"\\s+\", '_', s) for s in speakers]"
   ]
  },
  {
   "cell_type": "code",
   "execution_count": 7,
   "metadata": {},
   "outputs": [],
   "source": [
    "assert len(speaker_roles) == len(speakers) == len(times)"
   ]
  },
  {
   "cell_type": "code",
   "execution_count": 8,
   "metadata": {},
   "outputs": [],
   "source": [
    "speaker_dict = {}\n",
    "for i in range(len(speakers)):\n",
    "    speaker_dict[speakers[i] + '_' + speaker_roles[i] + '_' + str(i)] = times[i][0], times[i][-1], data['17-1268'][0][i]"
   ]
  },
  {
   "cell_type": "code",
   "execution_count": 9,
   "metadata": {},
   "outputs": [],
   "source": [
    "assert len(speaker_dict) == len(speakers)"
   ]
  },
  {
   "cell_type": "code",
   "execution_count": null,
   "metadata": {},
   "outputs": [],
   "source": [
    "# create folder for each speaker_speakerole in DOCKET#_SCOTUS folder\n",
    "# AKA for each fake.keys() element\n",
    "# # THIS IS NOT THE RIGHT WAY TO DO THIS!! Just the fastest for me rn :)\n",
    "# fake = {}\n",
    "# for i in range(len(speakers)):\n",
    "#     fake[speakers[i] + '_' + speaker_roles[i]] = times[i][0], times[i][-1], data['17-1268'][0][i]\n",
    "# fake.keys()"
   ]
  },
  {
   "cell_type": "code",
   "execution_count": 17,
   "metadata": {},
   "outputs": [
    {
     "data": {
      "text/plain": [
       "dict_keys(['John_G_Roberts_Jr_scotus_justice', 'Matthew_D_McGill_Other', 'Samuel_A_Alito_Jr_scotus_justice', 'Ruth_Bader_Ginsburg_scotus_justice', 'Elena_Kagan_scotus_justice', 'Erica_L_Ross_Other', 'Sonia_Sotomayor_scotus_justice', 'Christopher_M_Curran_Other', 'Neil_Gorsuch_scotus_justice', 'Stephen_G_Breyer_scotus_justice'])"
      ]
     },
     "execution_count": 17,
     "metadata": {},
     "output_type": "execute_result"
    }
   ],
   "source": [
    "# fake.keys()"
   ]
  },
  {
   "cell_type": "code",
   "execution_count": null,
   "metadata": {},
   "outputs": [],
   "source": [
    "# Save each k,v pair as it's own .txt \n",
    "# for each folder created:\n",
    "#     if key starts with folder name:\n",
    "#          save a txt file with k as name of txt and v as content"
   ]
  },
  {
   "cell_type": "code",
   "execution_count": 10,
   "metadata": {},
   "outputs": [
    {
     "name": "stdout",
     "output_type": "stream",
     "text": [
      "John_G_Roberts_Jr_scotus_justice_0 0 9.64\n"
     ]
    }
   ],
   "source": [
    "for k,v in speaker_dict.items():\n",
    "    print(k,v[0], v[1])\n",
    "    # split at v[0] to v[1]\n",
    "    # save as k.wav\n",
    "    break"
   ]
  },
  {
   "cell_type": "code",
   "execution_count": 21,
   "metadata": {},
   "outputs": [
    {
     "data": {
      "text/plain": [
       "['/Users/sophiatsilerides/Desktop/1006/CDS-Capstone-2020/Audio Splitting/17-1268_SCOTUS',\n",
       " '/Users/sophiatsilerides/Desktop/1006/CDS-Capstone-2020/Audio Splitting/17-1268_SCOTUS/Neil_Gorsuch_scotus_justice',\n",
       " '/Users/sophiatsilerides/Desktop/1006/CDS-Capstone-2020/Audio Splitting/17-1268_SCOTUS/Matthew_D_McGill_Other',\n",
       " '/Users/sophiatsilerides/Desktop/1006/CDS-Capstone-2020/Audio Splitting/17-1268_SCOTUS/Elena_Kagan_scotus_justice',\n",
       " '/Users/sophiatsilerides/Desktop/1006/CDS-Capstone-2020/Audio Splitting/17-1268_SCOTUS/Christopher_M_Curran_Other',\n",
       " '/Users/sophiatsilerides/Desktop/1006/CDS-Capstone-2020/Audio Splitting/17-1268_SCOTUS/John_G_Roberts_Jr_scotus_justice',\n",
       " '/Users/sophiatsilerides/Desktop/1006/CDS-Capstone-2020/Audio Splitting/17-1268_SCOTUS/Samuel_A_Alito_Jr_scotus_justice',\n",
       " '/Users/sophiatsilerides/Desktop/1006/CDS-Capstone-2020/Audio Splitting/17-1268_SCOTUS/Sonia_Sotomayor_scotus_justice',\n",
       " '/Users/sophiatsilerides/Desktop/1006/CDS-Capstone-2020/Audio Splitting/17-1268_SCOTUS/Ruth_Bader_Ginsburg_scotus_justice',\n",
       " '/Users/sophiatsilerides/Desktop/1006/CDS-Capstone-2020/Audio Splitting/17-1268_SCOTUS/Stephen_G_Breyer_scotus_justice',\n",
       " '/Users/sophiatsilerides/Desktop/1006/CDS-Capstone-2020/Audio Splitting/17-1268_SCOTUS/Erica_L_Ross_Other']"
      ]
     },
     "execution_count": 21,
     "metadata": {},
     "output_type": "execute_result"
    }
   ],
   "source": [
    "folders = os.walk(os.getcwd() + '/' + str(docket) + '_SCOTUS')\n",
    "[x[0] for x in folders]"
   ]
  },
  {
   "cell_type": "code",
   "execution_count": null,
   "metadata": {},
   "outputs": [],
   "source": [
    "# ffmpeg terminal command for splitting --example\n",
    "ffmpeg -ss 0 -t 9.64 -i 17-1268.wav John_G_Roberts_Jr_scotus_justice_0.wav"
   ]
  }
 ],
 "metadata": {
  "kernelspec": {
   "display_name": "Python 3",
   "language": "python",
   "name": "python3"
  },
  "language_info": {
   "codemirror_mode": {
    "name": "ipython",
    "version": 3
   },
   "file_extension": ".py",
   "mimetype": "text/x-python",
   "name": "python",
   "nbconvert_exporter": "python",
   "pygments_lexer": "ipython3",
   "version": "3.6.4"
  }
 },
 "nbformat": 4,
 "nbformat_minor": 2
}
