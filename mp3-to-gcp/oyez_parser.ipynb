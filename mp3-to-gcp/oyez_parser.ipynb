{
 "cells": [
  {
   "cell_type": "markdown",
   "metadata": {},
   "source": [
    "# Code from the githuub #\n",
    "If we want to obtain data outselves, if not just download and open json files"
   ]
  },
  {
   "cell_type": "code",
   "execution_count": 1,
   "metadata": {},
   "outputs": [],
   "source": [
    "import json\n",
    "from datetime import date\n",
    "import traceback\n",
    "\n",
    "import requests\n",
    "\n",
    "import os\n",
    "import pandas as pd"
   ]
  },
  {
   "cell_type": "code",
   "execution_count": 2,
   "metadata": {},
   "outputs": [],
   "source": [
    "# @sleep_and_retry\n",
    "# @limits(calls=10, period=10)  # no more than 1 call per second\n",
    "def get_http_json(url):\n",
    "    print(f\"Getting {url}\")\n",
    "    response = requests.get(url)\n",
    "    parsed = response.json()\n",
    "    return parsed\n",
    "\n",
    "\n",
    "def get_case(term, docket):\n",
    "    \"\"\"Get the info of the case and fetch all\n",
    "    transcripts that the info links to\"\"\"\n",
    "    url = f\"https://api.oyez.org/cases/{term}/{docket}\"\n",
    "    docket_data = get_http_json(url)\n",
    "\n",
    "    if not (\n",
    "        \"oral_argument_audio\" in docket_data and docket_data[\"oral_argument_audio\"]\n",
    "    ):\n",
    "        # no oral arguments for this case yet\n",
    "        # fail so we will try again later\n",
    "        print(f\"No oral arguments for docket {docket}\")\n",
    "        return (docket_data, [])\n",
    "\n",
    "    oral_argument_audio = docket_data[\"oral_argument_audio\"]\n",
    "    transcripts = []\n",
    "    for link in oral_argument_audio:\n",
    "        t = get_http_json(link[\"href\"])\n",
    "        transcripts.append(t)\n",
    "\n",
    "    return docket_data, transcripts\n",
    "\n",
    "def getTranscript(transcripts):\n",
    "    output = ''\n",
    "    for t in transcripts:\n",
    "        sections = t['transcript']['sections']\n",
    "        for section in sections:\n",
    "            turns = section['turns']\n",
    "            for turn in turns:\n",
    "                try:\n",
    "                    speaker = ' <' + turn['speaker']['name'] + '> '\n",
    "                except:\n",
    "                    speaker = ' <UNK> '\n",
    "                output += speaker\n",
    "                texts = turn['text_blocks']\n",
    "                for text in texts:\n",
    "                    output += (' ' + text['text'])\n",
    "    return output\n",
    "\n",
    "def getAudio(transcripts):\n",
    "    num_files = len(transcripts)\n",
    "    audio_list = []\n",
    "    for t in transcripts:\n",
    "        media_dicts = t['media_file']\n",
    "        #just incase theres more than one, there shouldnt be but they re in a weird list\n",
    "        for media_dict in media_dicts:\n",
    "            audio_list.append(media_dict['href'])\n",
    "    return [num_files,audio_list]"
   ]
  },
  {
   "cell_type": "code",
   "execution_count": 17,
   "metadata": {},
   "outputs": [],
   "source": [
    "# Get all the terms and dockets from case_summaries.json file\n",
    "with open(os.getcwd() + '/case_summaries.json') as f:\n",
    "    data = json.load(f)\n",
    "    \n",
    "case_summaries = pd.DataFrame(data)\n",
    "case_summaries = case_summaries[['term', 'docket_number']]"
   ]
  },
  {
   "cell_type": "code",
   "execution_count": 27,
   "metadata": {},
   "outputs": [],
   "source": [
    "# Let's start with 2020\n",
    "case_summaries_2020 = case_summaries[case_summaries['term']=='2020']"
   ]
  },
  {
   "cell_type": "code",
   "execution_count": 30,
   "metadata": {},
   "outputs": [
    {
     "data": {
      "text/html": [
       "<div>\n",
       "<style scoped>\n",
       "    .dataframe tbody tr th:only-of-type {\n",
       "        vertical-align: middle;\n",
       "    }\n",
       "\n",
       "    .dataframe tbody tr th {\n",
       "        vertical-align: top;\n",
       "    }\n",
       "\n",
       "    .dataframe thead th {\n",
       "        text-align: right;\n",
       "    }\n",
       "</style>\n",
       "<table border=\"1\" class=\"dataframe\">\n",
       "  <thead>\n",
       "    <tr style=\"text-align: right;\">\n",
       "      <th></th>\n",
       "      <th>term</th>\n",
       "      <th>docket_number</th>\n",
       "    </tr>\n",
       "  </thead>\n",
       "  <tbody>\n",
       "    <tr>\n",
       "      <td>8079</td>\n",
       "      <td>2020</td>\n",
       "      <td>18-540</td>\n",
       "    </tr>\n",
       "    <tr>\n",
       "      <td>8080</td>\n",
       "      <td>2020</td>\n",
       "      <td>19-71</td>\n",
       "    </tr>\n",
       "    <tr>\n",
       "      <td>8081</td>\n",
       "      <td>2020</td>\n",
       "      <td>19-368</td>\n",
       "    </tr>\n",
       "    <tr>\n",
       "      <td>8082</td>\n",
       "      <td>2020</td>\n",
       "      <td>19-309</td>\n",
       "    </tr>\n",
       "    <tr>\n",
       "      <td>8083</td>\n",
       "      <td>2020</td>\n",
       "      <td>18-956</td>\n",
       "    </tr>\n",
       "  </tbody>\n",
       "</table>\n",
       "</div>"
      ],
      "text/plain": [
       "      term docket_number\n",
       "8079  2020        18-540\n",
       "8080  2020         19-71\n",
       "8081  2020        19-368\n",
       "8082  2020        19-309\n",
       "8083  2020        18-956"
      ]
     },
     "execution_count": 30,
     "metadata": {},
     "output_type": "execute_result"
    }
   ],
   "source": [
    "case_summaries_2020"
   ]
  },
  {
   "cell_type": "code",
   "execution_count": 34,
   "metadata": {},
   "outputs": [
    {
     "name": "stdout",
     "output_type": "stream",
     "text": [
      "Getting https://api.oyez.org/cases/2020/18-540\n",
      "Getting https://api.oyez.org/case_media/oral_argument_audio/25060\n",
      "Getting https://api.oyez.org/cases/2020/19-71\n",
      "Getting https://api.oyez.org/case_media/oral_argument_audio/25058\n",
      "Getting https://api.oyez.org/cases/2020/19-368\n",
      "Getting https://api.oyez.org/case_media/oral_argument_audio/25061\n",
      "Getting https://api.oyez.org/cases/2020/19-309\n",
      "Getting https://api.oyez.org/case_media/oral_argument_audio/25055\n",
      "Getting https://api.oyez.org/cases/2020/18-956\n",
      "Getting https://api.oyez.org/case_media/oral_argument_audio/25068\n"
     ]
    }
   ],
   "source": [
    "data = {}\n",
    "\n",
    "for term, docket_number in case_summaries_2020.itertuples(index=False):\n",
    "    docket_data, transcripts = get_case(term, docket_number)\n",
    "    data[docket_number] = transcripts"
   ]
  },
  {
   "cell_type": "code",
   "execution_count": 44,
   "metadata": {},
   "outputs": [
    {
     "data": {
      "text/plain": [
       "\" <John G. Roberts, Jr.>  We'll hear argument first this morning in Case 18-540, Rutledge versus Pharmaceutical Care Management Association. General Bronni. <Nicholas J. Bronni>  Thank you, Mr. Chief Justice, and may it please the Court: Pharmacy Benefit Managers are drug middlemen that reimburse pharmacists for the cost of prescription drugs. Those reimbursements are frequently below a pharmacist's cost. That drives pharmacists out of business, and it has left many communities without a pharmaci\""
      ]
     },
     "execution_count": 44,
     "metadata": {},
     "output_type": "execute_result"
    }
   ],
   "source": [
    "# Example: Get transacript for docket '18-877'\n",
    "getTranscript(data['18-540'])[:500]"
   ]
  },
  {
   "cell_type": "code",
   "execution_count": 43,
   "metadata": {},
   "outputs": [
    {
     "data": {
      "text/plain": [
       "'https://s3.amazonaws.com/oyez.case-media.mp3/case_data/2020/19-71/19-71_20201006-argument.delivery.mp3'"
      ]
     },
     "execution_count": 43,
     "metadata": {},
     "output_type": "execute_result"
    }
   ],
   "source": [
    "# Example: Get audio link \n",
    "getAudio(data['19-71'])[1][0]"
   ]
  },
  {
   "cell_type": "code",
   "execution_count": 47,
   "metadata": {},
   "outputs": [],
   "source": [
    "# Save transcripts in dictionary \n",
    "\n",
    "transcript_data = {}\n",
    "\n",
    "for docket, transcript in data.items():\n",
    "    script = getTranscript(data[docket])\n",
    "    transcript_data[docket] = script\n"
   ]
  },
  {
   "cell_type": "code",
   "execution_count": 40,
   "metadata": {},
   "outputs": [],
   "source": [
    "# Save audio files in dictionary \n",
    "\n",
    "audio_data = {}\n",
    "\n",
    "for docket, transcript in data.items():\n",
    "    try:\n",
    "        s3_link = getAudio(data[docket])[1][0]\n",
    "        audio_data[docket] = s3_link\n",
    "    except: # Some cases don't have an audio file, so just skip those \n",
    "        pass\n",
    "    "
   ]
  },
  {
   "cell_type": "code",
   "execution_count": 53,
   "metadata": {},
   "outputs": [],
   "source": [
    "# Only export transcripts for cases we have mp3s for\n",
    "valid_mp3_cases = audio_data.keys()\n",
    "transcript_data_clean = {k: v for k, v in transcript_data.items() if k in valid_mp3_cases}\n",
    "\n",
    "# note that transcripts.json must already exist at this point\n",
    "with open('transcripts.json', 'w+') as f:\n",
    "    # this would place the entire output on one line\n",
    "    # use json.dump(lista_items, f, indent=4) to \"pretty-print\" with four spaces per indent\n",
    "    json.dump(transcript_data_clean, f)"
   ]
  },
  {
   "cell_type": "code",
   "execution_count": 41,
   "metadata": {},
   "outputs": [
    {
     "name": "stdout",
     "output_type": "stream",
     "text": [
      "curl -L https://s3.amazonaws.com/oyez.case-media.mp3/case_data/2020/19-71/19-71_20201006-argument.delivery.mp3 | gsutil cp - gs://oyez-aduio-10-11/data/19-71.mp3\n",
      "curl -L https://s3.amazonaws.com/oyez.case-media.mp3/case_data/2020/19-368/19-368_20201007-argument.delivery.mp3 | gsutil cp - gs://oyez-aduio-10-11/data/19-368.mp3\n",
      "curl -L https://s3.amazonaws.com/oyez.case-media.mp3/case_data/2020/19-309/19-309_20201005-argument.delivery.mp3 | gsutil cp - gs://oyez-aduio-10-11/data/19-309.mp3\n",
      "curl -L https://api.oyez.org/sites/default/files/case_data/2020/18-956/18-956_20201007-argument.delivery.mp3 | gsutil cp - gs://oyez-aduio-10-11/data/18-956.mp3\n"
     ]
    }
   ],
   "source": [
    "# Print commands for GCP terminal \n",
    "\n",
    "# Change this if you have to \n",
    "gcp_bucket = 'oyez-aduio-10-11/data'\n",
    "\n",
    "for docket, s3_link in audio_data.items():\n",
    "    print('curl -L ' + s3_link + ' | gsutil cp - gs://{}/{}.mp3'.format(gcp_bucket,docket))"
   ]
  },
  {
   "cell_type": "code",
   "execution_count": null,
   "metadata": {},
   "outputs": [],
   "source": []
  }
 ],
 "metadata": {
  "kernelspec": {
   "display_name": "Python 3",
   "language": "python",
   "name": "python3"
  },
  "language_info": {
   "codemirror_mode": {
    "name": "ipython",
    "version": 3
   },
   "file_extension": ".py",
   "mimetype": "text/x-python",
   "name": "python",
   "nbconvert_exporter": "python",
   "pygments_lexer": "ipython3",
   "version": "3.6.4"
  }
 },
 "nbformat": 4,
 "nbformat_minor": 2
}
