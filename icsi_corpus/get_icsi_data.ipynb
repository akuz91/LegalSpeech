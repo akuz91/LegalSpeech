{
 "cells": [
  {
   "cell_type": "code",
   "execution_count": 1,
   "metadata": {},
   "outputs": [],
   "source": [
    "import os"
   ]
  },
  {
   "cell_type": "code",
   "execution_count": 5,
   "metadata": {},
   "outputs": [],
   "source": [
    "path = './icsi_data'"
   ]
  },
  {
   "cell_type": "markdown",
   "metadata": {},
   "source": [
    "## Create new directories to store raw files"
   ]
  },
  {
   "cell_type": "code",
   "execution_count": 4,
   "metadata": {},
   "outputs": [],
   "source": [
    "os.makedirs(path+'/raw_transcripts')\n",
    "os.makedirs(path+'/raw_audio')"
   ]
  },
  {
   "cell_type": "markdown",
   "metadata": {},
   "source": [
    "## Download raw transcripts"
   ]
  },
  {
   "cell_type": "code",
   "execution_count": 5,
   "metadata": {},
   "outputs": [
    {
     "name": "stdout",
     "output_type": "stream",
     "text": [
      "--2020-10-31 11:29:57--  http://groups.inf.ed.ac.uk/ami/ICSICorpusAnnotations/ICSI_original_transcripts.zip\n",
      "Resolving groups.inf.ed.ac.uk (groups.inf.ed.ac.uk)... 129.215.202.26\n",
      "Connecting to groups.inf.ed.ac.uk (groups.inf.ed.ac.uk)|129.215.202.26|:80... connected.\n",
      "HTTP request sent, awaiting response... 200 OK\n",
      "Length: 3720243 (3.5M) [application/zip]\n",
      "Saving to: ‘./icsi_data/raw_transcripts/ICSI_original_transcripts.zip’\n",
      "\n",
      "ICSI_original_trans 100%[===================>]   3.55M  2.52MB/s    in 1.4s    \n",
      "\n",
      "2020-10-31 11:29:59 (2.52 MB/s) - ‘./icsi_data/raw_transcripts/ICSI_original_transcripts.zip’ saved [3720243/3720243]\n",
      "\n"
     ]
    }
   ],
   "source": [
    "!wget -P ./icsi_data/raw_transcripts http://groups.inf.ed.ac.uk/ami/ICSICorpusAnnotations/ICSI_original_transcripts.zip"
   ]
  },
  {
   "cell_type": "code",
   "execution_count": 6,
   "metadata": {},
   "outputs": [],
   "source": [
    "import zipfile\n",
    "with zipfile.ZipFile(path+'/raw_transcripts/ICSI_original_transcripts.zip','r') as zip_ref:\n",
    "    zip_ref.extractall('./icsi_data/raw_transcripts/')"
   ]
  },
  {
   "cell_type": "markdown",
   "metadata": {},
   "source": [
    "## Download raw audio files"
   ]
  },
  {
   "cell_type": "code",
   "execution_count": 7,
   "metadata": {},
   "outputs": [],
   "source": [
    "files = os.listdir(path+'/raw_transcripts/transcripts')\n",
    "for i in files:\n",
    "    i=i.strip('.mrt')\n",
    "    os.system('wget -P ./icsi_data/raw_audio http://groups.inf.ed.ac.uk/ami//ICSIsignals/NXT/%s.interaction.wav'%i)"
   ]
  }
 ],
 "metadata": {
  "kernelspec": {
   "display_name": "Python 3",
   "language": "python",
   "name": "python3"
  },
  "language_info": {
   "codemirror_mode": {
    "name": "ipython",
    "version": 3
   },
   "file_extension": ".py",
   "mimetype": "text/x-python",
   "name": "python",
   "nbconvert_exporter": "python",
   "pygments_lexer": "ipython3",
   "version": "3.7.3"
  }
 },
 "nbformat": 4,
 "nbformat_minor": 2
}
