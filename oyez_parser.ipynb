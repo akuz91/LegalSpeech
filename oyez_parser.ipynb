{
 "cells": [
  {
   "cell_type": "markdown",
   "metadata": {},
   "source": [
    "# Code from the githuub #\n",
    "If we want to obtain data outselves, if not just download and open json files"
   ]
  },
  {
   "cell_type": "code",
   "execution_count": 1,
   "metadata": {},
   "outputs": [],
   "source": [
    "import json\n",
    "from datetime import date\n",
    "import traceback\n",
    "\n",
    "import requests\n",
    "\n",
    "YEARS_TO_GO_BACK = 2\n",
    "\n",
    "\n",
    "# @sleep_and_retry\n",
    "# @limits(calls=10, period=10)  # no more than 1 call per second\n",
    "def get_http_json(url):\n",
    "    print(f\"Getting {url}\")\n",
    "    response = requests.get(url)\n",
    "    parsed = response.json()\n",
    "    return parsed\n",
    "\n",
    "\n",
    "def get_case(term, docket):\n",
    "    \"\"\"Get the info of the case and fetch all\n",
    "    transcripts that the info links to\"\"\"\n",
    "    url = f\"https://api.oyez.org/cases/{term}/{docket}\"\n",
    "    docket_data = get_http_json(url)\n",
    "\n",
    "    if not (\n",
    "        \"oral_argument_audio\" in docket_data and docket_data[\"oral_argument_audio\"]\n",
    "    ):\n",
    "        # no oral arguments for this case yet\n",
    "        # fail so we will try again later\n",
    "        print(f\"No oral arguments for docket {docket}\")\n",
    "        return (docket_data, [])\n",
    "\n",
    "    oral_argument_audio = docket_data[\"oral_argument_audio\"]\n",
    "    transcripts = []\n",
    "    for link in oral_argument_audio:\n",
    "        t = get_http_json(link[\"href\"])\n",
    "        transcripts.append(t)\n",
    "\n",
    "    return docket_data, transcripts\n",
    "\n",
    "def getTranscript(transcripts):\n",
    "    output = ''\n",
    "    for t in transcripts:\n",
    "        sections = t['transcript']['sections']\n",
    "        for section in sections:\n",
    "            turns = section['turns']\n",
    "            for turn in turns:\n",
    "                try:\n",
    "                    speaker = ' <' + turn['speaker']['name'] + '> '\n",
    "                except:\n",
    "                    speaker = ' <UNK> '\n",
    "                output += speaker\n",
    "                texts = turn['text_blocks']\n",
    "                for text in texts:\n",
    "                    output += (' ' + text['text'])\n",
    "    return output\n",
    "\n",
    "def getAudio(transcripts):\n",
    "    num_files = len(transcripts)\n",
    "    audio_list = []\n",
    "    for t in transcripts:\n",
    "        media_dicts = t['media_file']\n",
    "        #just incase theres more than one, there shouldnt be but they re in a weird list\n",
    "        for media_dict in media_dicts:\n",
    "            audio_list.append(media_dict['href'])\n",
    "    return [num_files,audio_list]"
   ]
  },
  {
   "cell_type": "code",
   "execution_count": 35,
   "metadata": {},
   "outputs": [
    {
     "name": "stdout",
     "output_type": "stream",
     "text": [
      "Getting https://api.oyez.org/cases/2019/18-877\n",
      "Getting https://api.oyez.org/case_media/oral_argument_audio/24929\n",
      "Getting https://api.oyez.org/cases/2019/17-1623\n",
      "No oral arguments for docket 17-1623\n",
      "Getting https://api.oyez.org/cases/2019/17-1498\n",
      "Getting https://api.oyez.org/case_media/oral_argument_audio/24948\n",
      "Getting https://api.oyez.org/cases/2019/18-882\n",
      "Getting https://api.oyez.org/case_media/oral_argument_audio/24962\n",
      "Getting https://api.oyez.org/cases/2019/18-6943\n",
      "Getting https://api.oyez.org/case_media/oral_argument_audio/24943\n",
      "Getting https://api.oyez.org/cases/2019/19-631\n",
      "Getting https://api.oyez.org/case_media/oral_argument_audio/24986\n",
      "Getting https://api.oyez.org/cases/2019/18-725\n",
      "Getting https://api.oyez.org/case_media/oral_argument_audio/25049\n",
      "Getting https://api.oyez.org/cases/2019/17-1618\n",
      "Getting https://api.oyez.org/case_media/oral_argument_audio/25053\n"
     ]
    }
   ],
   "source": [
    "# Manually have to specify all the dockets for this run bec can't scrape oyez website :(\n",
    "term = '2019'\n",
    "dockets = ['18-877', '17-1623', '17-1498', '18-882', '18-6943', '19-631', '18-725', '17-1618']\n",
    "\n",
    "data = {}\n",
    "\n",
    "for docket in dockets:\n",
    "    docket_data, transcripts = get_case(term, docket)\n",
    "    data[docket] = transcripts"
   ]
  },
  {
   "cell_type": "code",
   "execution_count": 58,
   "metadata": {},
   "outputs": [],
   "source": [
    "del data['17-1623'] # No oral arguments for docket 17-1623\n",
    "del data['18-725'] # weird audio issues"
   ]
  },
  {
   "cell_type": "code",
   "execution_count": 39,
   "metadata": {},
   "outputs": [
    {
     "data": {
      "text/plain": [
       "\" <John G. Roberts, Jr.>  We'll hear argument next in Case 18-877, Allen versus Cooper. Mr. Shaffer. \""
      ]
     },
     "execution_count": 39,
     "metadata": {},
     "output_type": "execute_result"
    }
   ],
   "source": [
    "# Get transacript for docket '18-877'\n",
    "getTranscript(data['18-877'])[:100]"
   ]
  },
  {
   "cell_type": "code",
   "execution_count": 57,
   "metadata": {},
   "outputs": [
    {
     "data": {
      "text/plain": [
       "'https://s3.amazonaws.com/oyez.case-media.mp3/case_data/2019/17-1618/17-1618_20191008-argument.delivery.mp3'"
      ]
     },
     "execution_count": 57,
     "metadata": {},
     "output_type": "execute_result"
    }
   ],
   "source": [
    "# Get audio link \n",
    "getAudio(data['17-1618'])[1][0]"
   ]
  },
  {
   "cell_type": "code",
   "execution_count": 59,
   "metadata": {},
   "outputs": [],
   "source": [
    "# Save audio files in dictionary \n",
    "\n",
    "audio_data = {}\n",
    "\n",
    "for docket, transcript in data.items():\n",
    "    s3_link = getAudio(data[docket])[1][0]\n",
    "    \n",
    "    audio_data[docket] = s3_link\n",
    "    "
   ]
  },
  {
   "cell_type": "code",
   "execution_count": 61,
   "metadata": {},
   "outputs": [
    {
     "name": "stdout",
     "output_type": "stream",
     "text": [
      "curl -L https://s3.amazonaws.com/oyez.case-media.mp3/case_data/2019/18-877/18-877_20191105-argument.delivery.mp3 | gsutil cp - gs://oyez-aduio-10-11/data/18-877.mp3\n",
      "curl -L https://s3.amazonaws.com/oyez.case-media.mp3/case_data/2019/17-1498/17-1498_20191203-argument.delivery.mp3 | gsutil cp - gs://oyez-aduio-10-11/data/17-1498.mp3\n",
      "curl -L https://s3.amazonaws.com/oyez.case-media.mp3/case_data/2019/18-882/18-882_20200115-argument.delivery.mp3 | gsutil cp - gs://oyez-aduio-10-11/data/18-882.mp3\n",
      "curl -L https://s3.amazonaws.com/oyez.case-media.mp3/case_data/2019/18-6943/18-6943_20191204-argument.delivery.mp3 | gsutil cp - gs://oyez-aduio-10-11/data/18-6943.mp3\n",
      "curl -L https://s3.amazonaws.com/oyez.case-media.mp3/case_data/2019/19-631/19-631_20200506-argument.delivery.mp3 | gsutil cp - gs://oyez-aduio-10-11/data/19-631.mp3\n",
      "curl -L https://s3.amazonaws.com/oyez.case-media.mp3/case_data/2019/17-1618/17-1618_20191008-argument.delivery.mp3 | gsutil cp - gs://oyez-aduio-10-11/data/17-1618.mp3\n"
     ]
    }
   ],
   "source": [
    "# Print commands for GCP terminal \n",
    "\n",
    "# Change this if you have to \n",
    "gcp_bucket = 'oyez-aduio-10-11/data'\n",
    "\n",
    "for docket, s3_link in audio_data.items():\n",
    "    print('curl -L ' + s3_link + ' | gsutil cp - gs://{}/{}.mp3'.format(gcp_bucket,docket))"
   ]
  }
 ],
 "metadata": {
  "kernelspec": {
   "display_name": "Python 3",
   "language": "python",
   "name": "python3"
  },
  "language_info": {
   "codemirror_mode": {
    "name": "ipython",
    "version": 3
   },
   "file_extension": ".py",
   "mimetype": "text/x-python",
   "name": "python",
   "nbconvert_exporter": "python",
   "pygments_lexer": "ipython3",
   "version": "3.6.4"
  }
 },
 "nbformat": 4,
 "nbformat_minor": 2
}
