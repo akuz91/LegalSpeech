{
 "cells": [
  {
   "cell_type": "markdown",
   "metadata": {},
   "source": [
    "# Analyzing IBM API output \n",
    "\n",
    "Process expects:\n",
    "\n",
    "    - case transcript (.txt) and audio (.wav) in outer data folder \n",
    "    - caseinfo/ folder in same directory as notebook (containg curl output)\n",
    "    - take snippet of wav (max ~45 min) for IBM byte limit\n",
    "    \n",
    "Procedure:\n",
    "\n",
    "    - curl call to IBM S2T server\n",
    "    - true and IBM transcription to RTTM\n",
    "    - pyannote visualization & evaluation (Focus on Segmentation)"
   ]
  },
  {
   "cell_type": "code",
   "execution_count": 1,
   "metadata": {},
   "outputs": [],
   "source": [
    "import json, csv\n",
    "from pyannote.database.util import load_rttm\n",
    "from pyannote.audio.features import RawAudio\n",
    "from pyannote.metrics.diarization import DiarizationErrorRate\n",
    "from pyannote.metrics.segmentation import *\n",
    "import seaborn as sns\n",
    "sns.set(style = \"darkgrid\")\n",
    "\n",
    "case_name = '19-518' # test case for processing\n",
    "OWN_FILE = {'audio': '../data/'+case_name+'_45.wav'} #45 min split\n",
    "transcript_path = '../data/'+case_name+'.txt'\n",
    "\n",
    "#sample outputs\n",
    "api_out_file_name_ibm = 'caseinfo/case19518_IBMtranscript.json'\n",
    "case19inRTTM = 'caseinfo/19518_Truelabels.rttm'\n",
    "case19IBMRTTM = 'caseinfo/19518_IBMlabels.rttm'\n",
    "\n",
    "time_trunc = 45*60\n",
    "sr=16000"
   ]
  },
  {
   "cell_type": "markdown",
   "metadata": {},
   "source": [
    "### IBM Python SDK (doesn't seem to work)"
   ]
  },
  {
   "cell_type": "code",
   "execution_count": null,
   "metadata": {},
   "outputs": [],
   "source": [
    "from ibm_watson import SpeechToTextV1\n",
    "from ibm_cloud_sdk_core.authenticators import IAMAuthenticator\n",
    "\n",
    "api = '...' #add api for python sdk\n",
    "url = 'https://api.us-south.speech-to-text.watson.cloud.ibm.com/instances/7efdb89d-7345-44e8-b67a-a39e31c2b0e2/v1/recognize'\n",
    "\n",
    "\n",
    "authenticator = IAMAuthenticator(api)\n",
    "speech_to_text = SpeechToTextV1(\n",
    "    authenticator=authenticator\n",
    ")\n",
    "\n",
    "speech_to_text.set_service_url(url)"
   ]
  },
  {
   "cell_type": "code",
   "execution_count": null,
   "metadata": {},
   "outputs": [],
   "source": [
    "speech_models = speech_to_text.list_models().get_result()\n",
    "print(json.dumps(speech_models, indent=2))"
   ]
  },
  {
   "cell_type": "markdown",
   "metadata": {},
   "source": [
    "### IBM CURL API call notes\n",
    "\n",
    "##### issue making calls thru python, curl works\n",
    "\n",
    "case19-518 -> first 45min (IBM API size limit)\n",
    "\n",
    "uses your own ```api_key```\n",
    "\n",
    "```\n",
    "curl -X POST -u \"apikey:api_key\" \\\n",
    "--header \"Content-Type: audio/wav\" \\\n",
    "--data-binary @data/19-518_45.wav \\\n",
    "\"https://api.us-south.speech-to-text.watson.cloud.ibm.com/instances/7efdb89d-7345-44e8-b67a-a39e31c2b0e2/v1/recognize?speaker_labels=true&audio_metrics=true\" > caseinfo/case19518_IBMtranscript.json\n",
    "```\n",
    "\n",
    "#### Args to tune:\n",
    "\n",
    "- speaker_labels=true\n",
    "- audio_metrics=true\n",
    "- ----------\n",
    "- model = en-US_NarrowbandModel (same results as broad, use for <16k)\n",
    "- acoustic_customization_id\n",
    "- base_model_version\n",
    "- keywords\n",
    "- end_of_phrase_silence_time\n",
    "- split_transcript_at_phrase_endl"
   ]
  },
  {
   "cell_type": "markdown",
   "metadata": {},
   "source": [
    "## True Case Diarization\n",
    "    - Conversion to RTTM"
   ]
  },
  {
   "cell_type": "code",
   "execution_count": 3,
   "metadata": {},
   "outputs": [],
   "source": [
    "TL = []\n",
    "trl = []\n",
    "cap = 0\n",
    "\n",
    "f = open(transcript_path,'r')\n",
    "k = f.readlines()\n",
    "f.close()\n",
    "\n",
    "for u in k:\n",
    "    if len(u)>=3:\n",
    "        t0, t1, spkr = u.split(' ')[0:3]\n",
    "        trans = u.split(spkr)[-1]\n",
    "        if float(t0)>time_trunc:\n",
    "            #print(float(t0), float(t1), spkr)\n",
    "            cap+=1\n",
    "        TL.append((float(t0),float(t1),spkr))\n",
    "        trl.append(trans)\n",
    "        \n",
    "# handle 45 min limit        \n",
    "timelst = TL[:-cap] \n",
    "trans_lst = trl[:-cap]"
   ]
  },
  {
   "cell_type": "code",
   "execution_count": 4,
   "metadata": {},
   "outputs": [
    {
     "data": {
      "text/plain": [
       "150"
      ]
     },
     "execution_count": 4,
     "metadata": {},
     "output_type": "execute_result"
    }
   ],
   "source": [
    "case_rttm = []\n",
    "for i, event in enumerate(timelst):\n",
    "    case_rttm.append(' '.join(['SPEAKER '+case_name+' 1', str(event[0]), str(round(event[1]-event[0], 2)), '<NA> <NA>', event[2],'<NA> <NA>']))\n",
    "\n",
    "with open(case19inRTTM, 'w') as filehandle:\n",
    "    for listitem in case_rttm:\n",
    "        filehandle.write('%s\\n' % listitem)\n",
    "        \n",
    "waveform = RawAudio(sample_rate=sr)(OWN_FILE).data\n",
    "groundtruths = load_rttm(case19inRTTM)[case_name]\n",
    "len(case_rttm)"
   ]
  },
  {
   "cell_type": "code",
   "execution_count": 5,
   "metadata": {},
   "outputs": [],
   "source": [
    "#import rttm in \n",
    "with open(case19inRTTM, newline='\\n') as f:\n",
    "    reader = csv.reader(f)\n",
    "    case19_diary = list(reader)"
   ]
  },
  {
   "cell_type": "markdown",
   "metadata": {},
   "source": [
    "## IBM Speech2Text API Diarization "
   ]
  },
  {
   "cell_type": "code",
   "execution_count": 6,
   "metadata": {},
   "outputs": [
    {
     "name": "stdout",
     "output_type": "stream",
     "text": [
      "dict_keys(['result_index', 'results', 'speaker_labels', 'audio_metrics']) 186 6767\n"
     ]
    }
   ],
   "source": [
    "with open(api_out_file_name_ibm) as f:\n",
    "    ibm = json.load(f)\n",
    "    \n",
    "print(ibm.keys(), len(ibm['results']), len(ibm['speaker_labels']))"
   ]
  },
  {
   "cell_type": "code",
   "execution_count": 19,
   "metadata": {},
   "outputs": [
    {
     "data": {
      "text/plain": [
       "{'accumulated': {'clipping_rate': [{'count': 27000, 'end': 1e-05, 'begin': 0},\n",
       "   {'count': 0, 'begin': 1e-05, 'end': 0.0001},\n",
       "   {'count': 0, 'begin': 0.0001, 'end': 0.001},\n",
       "   {'count': 0, 'begin': 0.001, 'end': 0.01},\n",
       "   {'count': 0, 'begin': 0.01, 'end': 0.1},\n",
       "   {'count': 0, 'begin': 0.1, 'end': 1}],\n",
       "  'end_time': 2700.0,\n",
       "  'final': True,\n",
       "  'high_frequency_loss': 0.282,\n",
       "  'non_speech_level': [{'count': 0, 'end': 0.1, 'begin': 0},\n",
       "   {'count': 4, 'begin': 0.1, 'end': 0.2},\n",
       "   {'count': 2949, 'begin': 0.2, 'end': 0.3},\n",
       "   {'count': 962, 'begin': 0.3, 'end': 0.4},\n",
       "   {'count': 853, 'begin': 0.4, 'end': 0.5},\n",
       "   {'count': 308, 'begin': 0.5, 'end': 0.6},\n",
       "   {'count': 89, 'begin': 0.6, 'end': 0.7},\n",
       "   {'count': 23, 'begin': 0.7, 'end': 0.8},\n",
       "   {'count': 14, 'begin': 0.8, 'end': 0.9},\n",
       "   {'count': 0, 'begin': 0.9, 'end': 1}],\n",
       "  'speech_level': [{'count': 0, 'end': 0.1, 'begin': 0},\n",
       "   {'count': 1, 'begin': 0.1, 'end': 0.2},\n",
       "   {'count': 109, 'begin': 0.2, 'end': 0.3},\n",
       "   {'count': 192, 'begin': 0.3, 'end': 0.4},\n",
       "   {'count': 496, 'begin': 0.4, 'end': 0.5},\n",
       "   {'count': 1466, 'begin': 0.5, 'end': 0.6},\n",
       "   {'count': 3816, 'begin': 0.6, 'end': 0.7},\n",
       "   {'count': 13470, 'begin': 0.7, 'end': 0.8},\n",
       "   {'count': 2248, 'begin': 0.8, 'end': 0.9},\n",
       "   {'count': 0, 'begin': 0.9, 'end': 1}],\n",
       "  'speech_ratio': 0.807,\n",
       "  'signal_to_noise_ratio': 18.0,\n",
       "  'direct_current_offset': [{'count': 0, 'end': -0.9, 'begin': -1},\n",
       "   {'count': 0, 'begin': -0.9, 'end': -0.7},\n",
       "   {'count': 0, 'begin': -0.7, 'end': -0.5},\n",
       "   {'count': 0, 'begin': -0.5, 'end': -0.3},\n",
       "   {'count': 0, 'begin': -0.3, 'end': -0.1},\n",
       "   {'count': 27000, 'begin': -0.1, 'end': 0.1},\n",
       "   {'count': 0, 'begin': 0.1, 'end': 0.3},\n",
       "   {'count': 0, 'begin': 0.3, 'end': 0.5},\n",
       "   {'count': 0, 'begin': 0.5, 'end': 0.7},\n",
       "   {'count': 0, 'begin': 0.7, 'end': 0.9},\n",
       "   {'count': 0, 'begin': 0.9, 'end': 1}]},\n",
       " 'sampling_interval': 0.1}"
      ]
     },
     "execution_count": 19,
     "metadata": {},
     "output_type": "execute_result"
    }
   ],
   "source": [
    "ibm['audio_metrics']"
   ]
  },
  {
   "cell_type": "markdown",
   "metadata": {},
   "source": [
    "### to RTTM"
   ]
  },
  {
   "cell_type": "code",
   "execution_count": 7,
   "metadata": {},
   "outputs": [
    {
     "name": "stdout",
     "output_type": "stream",
     "text": [
      "186\n"
     ]
    }
   ],
   "source": [
    "ibm_rttm = []\n",
    "ibm_trans = []\n",
    "\n",
    "for r in ibm['results']:\n",
    "    #print(r.keys())\n",
    "    for i in r['alternatives']:\n",
    "        #print(i.keys())\n",
    "        trans = i['transcript']\n",
    "        start, end = i['timestamps'][0][1], i['timestamps'][-1][-1]\n",
    "        for item in ibm['speaker_labels']:\n",
    "            if end==item['to']:\n",
    "                label = item['speaker']\n",
    "        out = 'SPEAKER '+case_name+' 1 '+str(start)+' '+str(round(end-start, 3))+' <NA> <NA> '+str(label)+' <NA> <NA>'\n",
    "        #print(out)\n",
    "        ibm_rttm.append(out)\n",
    "        ibm_trans.append((trans, label))\n",
    "        \n",
    "with open(case19IBMRTTM, 'w') as filehandle:\n",
    "    for listitem in ibm_rttm:\n",
    "        filehandle.write('%s\\n' % listitem)\n",
    "\n",
    "ibm_truths = load_rttm(case19IBMRTTM)[case_name]\n",
    "print(len(ibm_rttm))"
   ]
  },
  {
   "cell_type": "code",
   "execution_count": 8,
   "metadata": {},
   "outputs": [],
   "source": [
    "with open(case19IBMRTTM, newline='\\n') as f:\n",
    "    reader = csv.reader(f)\n",
    "    ibm_diary = list(reader)"
   ]
  },
  {
   "cell_type": "markdown",
   "metadata": {},
   "source": [
    "# Diarization Visualization & Evaluation (w/ pyannote.metrics)"
   ]
  },
  {
   "cell_type": "code",
   "execution_count": 9,
   "metadata": {},
   "outputs": [
    {
     "data": {
      "image/png": "[encoded data removed]",
      "text/plain": [
       "<pyannote.core.annotation.Annotation at 0x7f87c699a5d0>"
      ]
     },
     "execution_count": 9,
     "metadata": {},
     "output_type": "execute_result"
    }
   ],
   "source": [
    "groundtruths"
   ]
  },
  {
   "cell_type": "code",
   "execution_count": 10,
   "metadata": {},
   "outputs": [
    {
     "data": {
      "image/png": "[encoded data removed]",
      "text/plain": [
       "<pyannote.core.annotation.Annotation at 0x7f8784bb9390>"
      ]
     },
     "execution_count": 10,
     "metadata": {},
     "output_type": "execute_result"
    }
   ],
   "source": [
    "ibm_truths"
   ]
  },
  {
   "cell_type": "code",
   "execution_count": 11,
   "metadata": {},
   "outputs": [
    {
     "name": "stderr",
     "output_type": "stream",
     "text": [
      "/home/jtumm13d/anaconda3/envs/audio_pyannnote/lib/python3.7/site-packages/pyannote/metrics/utils.py:184: UserWarning: 'uem' was approximated by the union of 'reference' and 'hypothesis' extents.\n",
      "  \"'uem' was approximated by the union of 'reference' \"\n"
     ]
    },
    {
     "data": {
      "text/plain": [
       "{'confusion': 1646.2699998499938,\n",
       " 'total': 2721.9850002499848,\n",
       " 'false alarm': 0.0,\n",
       " 'missed detection': 330.7150003499919,\n",
       " 'correct': 745.000000049999,\n",
       " 'diarization error rate': 0.7263026798525418}"
      ]
     },
     "execution_count": 11,
     "metadata": {},
     "output_type": "execute_result"
    }
   ],
   "source": [
    "metric = DiarizationErrorRate(collar=.3, skip_overlap=True)\n",
    "metric(groundtruths, ibm_truths, detailed=True)"
   ]
  },
  {
   "cell_type": "code",
   "execution_count": 12,
   "metadata": {},
   "outputs": [
    {
     "name": "stdout",
     "output_type": "stream",
     "text": [
      "       diarization error rate   total correct correct false alarm false alarm missed detection missed detection confusion confusion\n",
      "                            %                       %                       %                                 %                   %\n",
      "item                                                                                                                               \n",
      "19-518                  72.63 2721.99  745.00   27.37        0.00        0.00           330.72            12.15   1646.27     60.48\n",
      "TOTAL                   72.63 2721.99  745.00   27.37        0.00        0.00           330.72            12.15   1646.27     60.48\n"
     ]
    }
   ],
   "source": [
    "report = metric.report(display=True)"
   ]
  },
  {
   "cell_type": "code",
   "execution_count": 13,
   "metadata": {},
   "outputs": [
    {
     "data": {
      "text/plain": [
       "{'number of boundaries': 149,\n",
       " 'number of matches': 12.0,\n",
       " 'segmentation recall': 0.08053691275167785}"
      ]
     },
     "execution_count": 13,
     "metadata": {},
     "output_type": "execute_result"
    }
   ],
   "source": [
    "rec = SegmentationRecall(tolerance=.5)\n",
    "rec(groundtruths, ibm_truths, detailed=True)"
   ]
  },
  {
   "cell_type": "code",
   "execution_count": 14,
   "metadata": {},
   "outputs": [
    {
     "data": {
      "text/plain": [
       "{'number of boundaries': 185,\n",
       " 'number of matches': 12.0,\n",
       " 'segmentation precision': 0.06486486486486487}"
      ]
     },
     "execution_count": 14,
     "metadata": {},
     "output_type": "execute_result"
    }
   ],
   "source": [
    "prec = SegmentationPrecision(tolerance=.5)\n",
    "prec(groundtruths, ibm_truths, detailed=True)"
   ]
  },
  {
   "cell_type": "code",
   "execution_count": 15,
   "metadata": {},
   "outputs": [
    {
     "data": {
      "text/plain": [
       "{'total duration': 2699.7599995499972,\n",
       " 'intersection duration': 2078.034999249996,\n",
       " 'segmentation coverage': 0.7697110111996504}"
      ]
     },
     "execution_count": 15,
     "metadata": {},
     "output_type": "execute_result"
    }
   ],
   "source": [
    "cov = SegmentationCoverage()\n",
    "cov(groundtruths, ibm_truths, detailed=True)"
   ]
  },
  {
   "cell_type": "code",
   "execution_count": 16,
   "metadata": {},
   "outputs": [
    {
     "data": {
      "text/plain": [
       "{'total duration': 2699.759999549997,\n",
       " 'intersection duration': 2466.3950003500013,\n",
       " 'segmentation purity': 0.9135608353191049}"
      ]
     },
     "execution_count": 16,
     "metadata": {},
     "output_type": "execute_result"
    }
   ],
   "source": [
    "pur = SegmentationPurity()\n",
    "pur(groundtruths, ibm_truths, detailed=True)"
   ]
  },
  {
   "cell_type": "code",
   "execution_count": 17,
   "metadata": {},
   "outputs": [
    {
     "data": {
      "text/plain": [
       "{'pty intersection duration': 2466.3950003500013,\n",
       " 'cvg intersection duration': 2078.034999249996,\n",
       " 'cvg total duration': 2699.7599995499972,\n",
       " 'pty total duration': 2699.7599995499972,\n",
       " 'segmentation F[purity|coverage]': 0.8354893308530489}"
      ]
     },
     "execution_count": 17,
     "metadata": {},
     "output_type": "execute_result"
    }
   ],
   "source": [
    "fsc = SegmentationPurityCoverageFMeasure()\n",
    "fsc(groundtruths, ibm_truths, detailed=True)"
   ]
  },
  {
   "cell_type": "code",
   "execution_count": null,
   "metadata": {},
   "outputs": [],
   "source": []
  },
  {
   "cell_type": "code",
   "execution_count": null,
   "metadata": {},
   "outputs": [],
   "source": []
  },
  {
   "cell_type": "code",
   "execution_count": null,
   "metadata": {},
   "outputs": [],
   "source": []
  }
 ],
 "metadata": {
  "kernelspec": {
   "display_name": "Python 3",
   "language": "python",
   "name": "python3"
  },
  "language_info": {
   "codemirror_mode": {
    "name": "ipython",
    "version": 3
   },
   "file_extension": ".py",
   "mimetype": "text/x-python",
   "name": "python",
   "nbconvert_exporter": "python",
   "pygments_lexer": "ipython3",
   "version": "3.7.9"
  }
 },
 "nbformat": 4,
 "nbformat_minor": 4
}
